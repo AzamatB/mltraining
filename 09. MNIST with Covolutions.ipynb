{
 "cells": [
  {
   "cell_type": "code",
   "execution_count": 1,
   "metadata": {
    "collapsed": true
   },
   "outputs": [],
   "source": [
    "using Flux, Flux.Data.MNIST, Images\n",
    "using Flux: onehotbatch, argmax, crossentropy, throttle\n",
    "using Base.Iterators: repeated, partition\n",
    "#using CuArrays"
   ]
  },
  {
   "cell_type": "code",
   "execution_count": 2,
   "metadata": {
    "scrolled": true
   },
   "outputs": [
    {
     "data": {
      "text/html": [
       "<table><tbody><tr><td style='text-align:center;vertical-align:middle; margin: 0.5em;border:1px #90999f solid;border-collapse:collapse'><img style='max-width: 100px; max-height:100px;display:inline' src=\"data:image/png;base64,iVBORw0KGgoAAAANSUhEUgAAAHAAAABwCAAAAADji6uXAAAEPWlDQ1BJQ0MgUHJvZmlsZQAAOI2NVVtoHFUY/nfn7AYkDj5oG1poBy9tKWmYRKuJxdrtZrtJEzfrZlObKspkdjY73dmZcWZ2m4Q+lYJvWhCkr4L6GAsiWC/YvNiXisWSSjUPChFajCAofVLwO2cmm9kNXmY453znv53//BcOUc8fmutaSYWoYQdevpSZPT17Rum5SUmSqZfwabrvZorFSY5txzZo23f/NiX4eusQt7Wd/69fqmL4OtZrGE7F1xtECZUoXdVdLyDquQz68LnA5fgm8MP1cikLvA4sR7r8eyRv2IZn6kre0xaVoudUTSvu63/x/9fXsJqb5+3F6PXr0xNYD8Lni4Y9Mw18AHhZ13Ic9wPfbpmnCiFOJt3geCmUTw406zOZiH666p2YiegXa80xjgeAl5dq5ZeAHwJes+cKU5H8Rt2Z4Hb6iKQ+3c+eAX4cWK0Z4zxPCnDZc0pTET2oGKM54GeBL5vBeDm0L33rt6ZzIWa0VMsWwrPYwFntZBF4B/BRw8qXQjus7AZFbnMYeMG2CpOhz+yK4eeiu7Pvg1p5LJRPJQOvzHUfBd5XNU+Mh/6nxmreWCn0JxW4lqitp4GXvWaJ330f8Lrm5fKhzfQDFW2Ux/kp4CE6ldDIIIfmMOtk01+4r08mtQRyyQOvir1FeUjYGB52Onh5II0WgYoxKQM7LhPuFKpgp9C80PIF4lbuRlaye96nJqg12gC1BvQC/SgoC/QTNbBmQW2CN99lN4vVpiV4oESe3YtsOmwnU9mTGEfYJHuODbMRUtjz7Bg7ykZBHWFHYt7Hfefe3Wtbeh3nxn1fgUQAHQue2dDxRaSW6E/w60IyFq1Lu5oHXPedNy94r5n6N2/91hE9H/Kh3Z9h0RH0mO7185/3xeO7yj555Vbv9fM0Fc+SyFulO0up9dTd1CrmO6m1uI3UD6k1/He23Zf7s5mVzdxmwLMErYFhCo7fttYEDjBXhc6hDotx7LTtz2M4205x/jEmHGuilmI3q9qXdrnuqx/waBpvFO4X6EK/ekXdUN9Tv1N/VVfVd4F+kd6WPpa+kK5Kn0o3SJGuSSvSl9JX0ofSZ9h9BOqKdLWrkuY7q6dds3pUYZwbiHxnYlHh1M37nQVvy1NDxKHzhM7qb58lH5d3y4/Jo/Je+Ql5Uj4oH5aPyTvlIYxBeUzeD87udpSsKANmV8eZNCtiFebJFt2kgd/ArMX8CmVjMU88iDibXV2+2f2m6MawOh3sNZoBMumc0PVFfmzR/d3aS+J0J/EyjyDbwwbZeNSDGXYYXTjR0Y/DvEvTufRoOkNK+mB6JD2YPsnxVu2m94M7gjkX895oR3arh+ZEndZFjFpCwsdMgbEQ8Ecm67iLnjlfC5QhVX1GyeB5NZRxWx/oVzTLUgTLVzzDN7yWURkg/naHz9PvL4o3ObHjht70WtGblUh8TfQ3t4+TNAOs8McAAAKASURBVGgF7Zo9aBRBGIbjDxZKotgoBESSIoIosVBBAkGCiJAUQRuFNGqnIVUaOwtFUAsTUqQKpJC0aqXgTywEQTRpFPuonb+IJiTq8+oNrBtvdvcOPvBjXnjYmb3bG773Ze5mdq+lJSk5kBxIDiQHkgPJgeTA/+/AmqolrOOCzZmLztPeCF1wDq7BSfgOV+AiZLU227Fo+x9wfZGNO3jDBjgEPbAFjkNeC5wYg0H4AvMwC3n5t9S8wug83EcA9yE77/KZqP8DTsNXddBb+ACv1cnJvEL/A0Yz3Ir/T6Ejl4O6Ov8RDsMSFOXMW37Lv6XmFUa/S9/j+ij0wwvQd6U0B0dA8243jEBZmVfof8DoPAy5tNHQb9wknIEhuAmNyL+l5hVG52HI6HOt8al2PMtxBvQ7WFXmFfofsNQ8DDltonEHeuEY3IOq8m+peYWVMlRenfActJ55CM9gAn5CGZlX6H/AyhkqJ+0Bp6BVHXQBpuGdOgXyb6l5hQ1lqJj2wHXoUwdpvXMJ3qgTkXmF/gdsOEPFpHs2A6A5qQ96ANpzxOTfUvMKm8owZLVIQwvcZTgKj6CezCv0P2CpvcW/8tjLyROwH8KHvKT9GGLyb6l5hcH+mO1/vabnE8Ogdc32zCsrtLWmKdozmlfof8DS36XK6xTo+dJOyEr7C61nbmdP1mn7t9S8wsIMt5GF7omOw65cLrrvfRVuQdH8C5eaV+h/wLoZ6pmF9gvd0BECqB2fcNS+4i58q50re/BvqXmFqzI8SBh6VnEA2nPBKK8bcBn0zKIRmVfof8BVaxqtVUTQKxq6R6o1i/5noXtszci/peYVNhNHujY5kBxIDiQH/jjwCwxNTGDrgl7+AAAAAElFTkSuQmCC\"></td><td style='text-align:center;vertical-align:middle; margin: 0.5em;border:1px #90999f solid;border-collapse:collapse'><img style='max-width: 100px; max-height:100px;display:inline' src=\"data:image/png;base64,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\"></td><td style='text-align:center;vertical-align:middle; margin: 0.5em;border:1px #90999f solid;border-collapse:collapse'><img style='max-width: 100px; max-height:100px;display:inline' src=\"data:image/png;base64,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\"></td><td style='text-align:center;vertical-align:middle; margin: 0.5em;border:1px #90999f solid;border-collapse:collapse'><img style='max-width: 100px; max-height:100px;display:inline' src=\"data:image/png;base64,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\"></td><td style='text-align:center;vertical-align:middle; margin: 0.5em;border:1px #90999f solid;border-collapse:collapse'><img style='max-width: 100px; max-height:100px;display:inline' src=\"data:image/png;base64,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\"></td><td style='text-align:center;vertical-align:middle; margin: 0.5em;border:1px #90999f solid;border-collapse:collapse'><img style='max-width: 100px; max-height:100px;display:inline' src=\"data:image/png;base64,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\"></td><td style='text-align:center;vertical-align:middle; margin: 0.5em;border:1px #90999f solid;border-collapse:collapse'><img style='max-width: 100px; max-height:100px;display:inline' src=\"data:image/png;base64,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\"></td><td style='text-align:center;vertical-align:middle; margin: 0.5em;border:1px #90999f solid;border-collapse:collapse'><img style='max-width: 100px; max-height:100px;display:inline' src=\"data:image/png;base64,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\"></td><td style='text-align:center;vertical-align:middle; margin: 0.5em;border:1px #90999f solid;border-collapse:collapse'><img style='max-width: 100px; max-height:100px;display:inline' src=\"data:image/png;base64,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\"></td><td style='text-align:center;vertical-align:middle; margin: 0.5em;border:1px #90999f solid;border-collapse:collapse'><img style='max-width: 100px; max-height:100px;display:inline' src=\"data:image/png;base64,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\"></td></tr></tbody></table><div><small>(a vector displayed as a row to save space)</small></div>"
      ],
      "text/plain": [
       "10-element Array{Array{ColorTypes.Gray{FixedPointNumbers.Normed{UInt8,8}},2},1}:\n",
       " ColorTypes.Gray{FixedPointNumbers.Normed{UInt8,8}}[Gray{N0f8}(0.0) Gray{N0f8}(0.0) … Gray{N0f8}(0.0) Gray{N0f8}(0.0); Gray{N0f8}(0.0) Gray{N0f8}(0.0) … Gray{N0f8}(0.0) Gray{N0f8}(0.0); … ; Gray{N0f8}(0.0) Gray{N0f8}(0.0) … Gray{N0f8}(0.0) Gray{N0f8}(0.0); Gray{N0f8}(0.0) Gray{N0f8}(0.0) … Gray{N0f8}(0.0) Gray{N0f8}(0.0)]\n",
       " ColorTypes.Gray{FixedPointNumbers.Normed{UInt8,8}}[Gray{N0f8}(0.0) Gray{N0f8}(0.0) … Gray{N0f8}(0.0) Gray{N0f8}(0.0); Gray{N0f8}(0.0) Gray{N0f8}(0.0) … Gray{N0f8}(0.0) Gray{N0f8}(0.0); … ; Gray{N0f8}(0.0) Gray{N0f8}(0.0) … Gray{N0f8}(0.0) Gray{N0f8}(0.0); Gray{N0f8}(0.0) Gray{N0f8}(0.0) … Gray{N0f8}(0.0) Gray{N0f8}(0.0)]\n",
       " ColorTypes.Gray{FixedPointNumbers.Normed{UInt8,8}}[Gray{N0f8}(0.0) Gray{N0f8}(0.0) … Gray{N0f8}(0.0) Gray{N0f8}(0.0); Gray{N0f8}(0.0) Gray{N0f8}(0.0) … Gray{N0f8}(0.0) Gray{N0f8}(0.0); … ; Gray{N0f8}(0.0) Gray{N0f8}(0.0) … Gray{N0f8}(0.0) Gray{N0f8}(0.0); Gray{N0f8}(0.0) Gray{N0f8}(0.0) … Gray{N0f8}(0.0) Gray{N0f8}(0.0)]\n",
       " ColorTypes.Gray{FixedPointNumbers.Normed{UInt8,8}}[Gray{N0f8}(0.0) Gray{N0f8}(0.0) … Gray{N0f8}(0.0) Gray{N0f8}(0.0); Gray{N0f8}(0.0) Gray{N0f8}(0.0) … Gray{N0f8}(0.0) Gray{N0f8}(0.0); … ; Gray{N0f8}(0.0) Gray{N0f8}(0.0) … Gray{N0f8}(0.0) Gray{N0f8}(0.0); Gray{N0f8}(0.0) Gray{N0f8}(0.0) … Gray{N0f8}(0.0) Gray{N0f8}(0.0)]\n",
       " ColorTypes.Gray{FixedPointNumbers.Normed{UInt8,8}}[Gray{N0f8}(0.0) Gray{N0f8}(0.0) … Gray{N0f8}(0.0) Gray{N0f8}(0.0); Gray{N0f8}(0.0) Gray{N0f8}(0.0) … Gray{N0f8}(0.0) Gray{N0f8}(0.0); … ; Gray{N0f8}(0.0) Gray{N0f8}(0.0) … Gray{N0f8}(0.0) Gray{N0f8}(0.0); Gray{N0f8}(0.0) Gray{N0f8}(0.0) … Gray{N0f8}(0.0) Gray{N0f8}(0.0)]\n",
       " ColorTypes.Gray{FixedPointNumbers.Normed{UInt8,8}}[Gray{N0f8}(0.0) Gray{N0f8}(0.0) … Gray{N0f8}(0.0) Gray{N0f8}(0.0); Gray{N0f8}(0.0) Gray{N0f8}(0.0) … Gray{N0f8}(0.0) Gray{N0f8}(0.0); … ; Gray{N0f8}(0.0) Gray{N0f8}(0.0) … Gray{N0f8}(0.0) Gray{N0f8}(0.0); Gray{N0f8}(0.0) Gray{N0f8}(0.0) … Gray{N0f8}(0.0) Gray{N0f8}(0.0)]\n",
       " ColorTypes.Gray{FixedPointNumbers.Normed{UInt8,8}}[Gray{N0f8}(0.0) Gray{N0f8}(0.0) … Gray{N0f8}(0.0) Gray{N0f8}(0.0); Gray{N0f8}(0.0) Gray{N0f8}(0.0) … Gray{N0f8}(0.0) Gray{N0f8}(0.0); … ; Gray{N0f8}(0.0) Gray{N0f8}(0.0) … Gray{N0f8}(0.0) Gray{N0f8}(0.0); Gray{N0f8}(0.0) Gray{N0f8}(0.0) … Gray{N0f8}(0.0) Gray{N0f8}(0.0)]\n",
       " ColorTypes.Gray{FixedPointNumbers.Normed{UInt8,8}}[Gray{N0f8}(0.0) Gray{N0f8}(0.0) … Gray{N0f8}(0.0) Gray{N0f8}(0.0); Gray{N0f8}(0.0) Gray{N0f8}(0.0) … Gray{N0f8}(0.0) Gray{N0f8}(0.0); … ; Gray{N0f8}(0.0) Gray{N0f8}(0.0) … Gray{N0f8}(0.0) Gray{N0f8}(0.0); Gray{N0f8}(0.0) Gray{N0f8}(0.0) … Gray{N0f8}(0.0) Gray{N0f8}(0.0)]\n",
       " ColorTypes.Gray{FixedPointNumbers.Normed{UInt8,8}}[Gray{N0f8}(0.0) Gray{N0f8}(0.0) … Gray{N0f8}(0.0) Gray{N0f8}(0.0); Gray{N0f8}(0.0) Gray{N0f8}(0.0) … Gray{N0f8}(0.0) Gray{N0f8}(0.0); … ; Gray{N0f8}(0.0) Gray{N0f8}(0.0) … Gray{N0f8}(0.0) Gray{N0f8}(0.0); Gray{N0f8}(0.0) Gray{N0f8}(0.0) … Gray{N0f8}(0.0) Gray{N0f8}(0.0)]\n",
       " ColorTypes.Gray{FixedPointNumbers.Normed{UInt8,8}}[Gray{N0f8}(0.0) Gray{N0f8}(0.0) … Gray{N0f8}(0.0) Gray{N0f8}(0.0); Gray{N0f8}(0.0) Gray{N0f8}(0.0) … Gray{N0f8}(0.0) Gray{N0f8}(0.0); … ; Gray{N0f8}(0.0) Gray{N0f8}(0.0) … Gray{N0f8}(0.0) Gray{N0f8}(0.0); Gray{N0f8}(0.0) Gray{N0f8}(0.0) … Gray{N0f8}(0.0) Gray{N0f8}(0.0)]"
      ]
     },
     "execution_count": 2,
     "metadata": {},
     "output_type": "execute_result"
    }
   ],
   "source": [
    "imgs = MNIST.images()\n",
    "\n",
    "labels = gpu(collect(onehotbatch(MNIST.labels(), 0:9)))\n",
    "\n",
    "imgs[1:10]"
   ]
  },
  {
   "cell_type": "code",
   "execution_count": 3,
   "metadata": {
    "collapsed": true
   },
   "outputs": [],
   "source": [
    "# Partition into batches of size 1,000\n",
    "train = [(gpu(cat(4, float.(imgs[i])...)), labels[:,i])\n",
    "         for i in partition(1:60_000, 1000)]\n",
    "\n",
    "# Prepare test set (first 1,000 images)\n",
    "tX = gpu(cat(4, float.(MNIST.images(:test)[1:1000])...))\n",
    "tY = gpu(onehotbatch(MNIST.labels(:test)[1:1000], 0:9));"
   ]
  },
  {
   "cell_type": "markdown",
   "metadata": {},
   "source": [
    "![CNN](http://cs231n.github.io/assets/cnn/depthcol.jpeg)"
   ]
  },
  {
   "cell_type": "code",
   "execution_count": 17,
   "metadata": {},
   "outputs": [
    {
     "data": {
      "text/plain": [
       "loss (generic function with 1 method)"
      ]
     },
     "execution_count": 17,
     "metadata": {},
     "output_type": "execute_result"
    }
   ],
   "source": [
    "m = Chain(\n",
    "  Conv((2,2), 1=>16, relu),\n",
    "  x -> maxpool(x, (2,2)),\n",
    "  Conv((2,2), 16=>8, relu),\n",
    "  x -> maxpool(x, (2,2)),\n",
    "  x -> reshape(x, :, size(x, 4)),\n",
    "  Dense(288, 10), softmax)\n",
    "\n",
    "m = gpu(m)\n",
    "\n",
    "loss(x, y) = crossentropy(m(x), y)"
   ]
  },
  {
   "cell_type": "code",
   "execution_count": 18,
   "metadata": {},
   "outputs": [
    {
     "data": {
      "image/png": "[encoded data removed]",
      "text/plain": [
       "10×100 Array{Gray{Bool},2}:\n",
       " Gray{Bool}(false)  Gray{Bool}(true)   …  Gray{Bool}(false)\n",
       " Gray{Bool}(false)  Gray{Bool}(false)     Gray{Bool}(true) \n",
       " Gray{Bool}(false)  Gray{Bool}(false)     Gray{Bool}(false)\n",
       " Gray{Bool}(false)  Gray{Bool}(false)     Gray{Bool}(false)\n",
       " Gray{Bool}(false)  Gray{Bool}(false)     Gray{Bool}(false)\n",
       " Gray{Bool}(true)   Gray{Bool}(false)  …  Gray{Bool}(false)\n",
       " Gray{Bool}(false)  Gray{Bool}(false)     Gray{Bool}(false)\n",
       " Gray{Bool}(false)  Gray{Bool}(false)     Gray{Bool}(false)\n",
       " Gray{Bool}(false)  Gray{Bool}(false)     Gray{Bool}(false)\n",
       " Gray{Bool}(false)  Gray{Bool}(false)     Gray{Bool}(false)"
      ]
     },
     "execution_count": 18,
     "metadata": {},
     "output_type": "execute_result"
    }
   ],
   "source": [
    "Gray.(collect(labels[:,1:100]))"
   ]
  },
  {
   "cell_type": "code",
   "execution_count": 19,
   "metadata": {},
   "outputs": [
    {
     "data": {
      "image/png": "[encoded data removed]",
      "text/plain": [
       "10×100 Array{Gray{Float64},2}:\n",
       " Gray{Float64}(0.0999836)  …  Gray{Float64}(0.0999696)\n",
       " Gray{Float64}(0.0999819)     Gray{Float64}(0.0999755)\n",
       " Gray{Float64}(0.100005)      Gray{Float64}(0.100017) \n",
       " Gray{Float64}(0.100025)      Gray{Float64}(0.100008) \n",
       " Gray{Float64}(0.100014)      Gray{Float64}(0.0999977)\n",
       " Gray{Float64}(0.0999576)  …  Gray{Float64}(0.0999956)\n",
       " Gray{Float64}(0.0999983)     Gray{Float64}(0.100006) \n",
       " Gray{Float64}(0.0999786)     Gray{Float64}(0.10002)  \n",
       " Gray{Float64}(0.10003)       Gray{Float64}(0.100018) \n",
       " Gray{Float64}(0.100026)      Gray{Float64}(0.0999925)"
      ]
     },
     "execution_count": 19,
     "metadata": {},
     "output_type": "execute_result"
    }
   ],
   "source": [
    "Gray.(collect(m(train[1][1]).data)[:,1:100])"
   ]
  },
  {
   "cell_type": "code",
   "execution_count": 20,
   "metadata": {},
   "outputs": [
    {
     "data": {
      "text/plain": [
       "(::throttled) (generic function with 1 method)"
      ]
     },
     "execution_count": 20,
     "metadata": {},
     "output_type": "execute_result"
    }
   ],
   "source": [
    "evalcb = throttle(5) do\n",
    "    display(Gray.(collect(m(train[1][1]).data)[:,1:100]))\n",
    "end"
   ]
  },
  {
   "cell_type": "code",
   "execution_count": null,
   "metadata": {},
   "outputs": [],
   "source": [
    "Flux.train!(loss, train, ADAM(params(m)), cb = evalcb)"
   ]
  },
  {
   "cell_type": "code",
   "execution_count": 12,
   "metadata": {},
   "outputs": [
    {
     "data": {
      "image/png": "[encoded data removed]",
      "text/plain": [
       "10×100 Array{Gray{Float64},2}:\n",
       " Gray{Float64}(0.0134714)    …  Gray{Float64}(0.000191688)\n",
       " Gray{Float64}(0.00103812)      Gray{Float64}(0.953008)   \n",
       " Gray{Float64}(0.0629148)       Gray{Float64}(0.00904964) \n",
       " Gray{Float64}(0.397823)        Gray{Float64}(0.0046645)  \n",
       " Gray{Float64}(0.00252935)      Gray{Float64}(0.00220554) \n",
       " Gray{Float64}(0.460541)     …  Gray{Float64}(0.00178019) \n",
       " Gray{Float64}(0.005591)        Gray{Float64}(0.000551289)\n",
       " Gray{Float64}(0.00693093)      Gray{Float64}(0.020408)   \n",
       " Gray{Float64}(0.0483939)       Gray{Float64}(0.00328969) \n",
       " Gray{Float64}(0.000766477)     Gray{Float64}(0.00485109) "
      ]
     },
     "metadata": {},
     "output_type": "display_data"
    },
    {
     "data": {
      "image/png": "[encoded data removed]",
      "text/plain": [
       "10×100 Array{Gray{Float64},2}:\n",
       " Gray{Float64}(0.00922767)   …  Gray{Float64}(7.65614e-5) \n",
       " Gray{Float64}(0.00101482)      Gray{Float64}(0.969852)   \n",
       " Gray{Float64}(0.0417129)       Gray{Float64}(0.00438793) \n",
       " Gray{Float64}(0.44729)         Gray{Float64}(0.00272358) \n",
       " Gray{Float64}(0.00316853)      Gray{Float64}(0.00163266) \n",
       " Gray{Float64}(0.394095)     …  Gray{Float64}(0.000753371)\n",
       " Gray{Float64}(0.00682307)      Gray{Float64}(0.000367324)\n",
       " Gray{Float64}(0.00787204)      Gray{Float64}(0.0145409)  \n",
       " Gray{Float64}(0.0881587)       Gray{Float64}(0.00255071) \n",
       " Gray{Float64}(0.000636993)     Gray{Float64}(0.00311481) "
      ]
     },
     "metadata": {},
     "output_type": "display_data"
    },
    {
     "data": {
      "image/png": "[encoded data removed]",
      "text/plain": [
       "10×100 Array{Gray{Float64},2}:\n",
       " Gray{Float64}(0.00917093)   …  Gray{Float64}(6.41308e-5) \n",
       " Gray{Float64}(0.00058691)      Gray{Float64}(0.975007)   \n",
       " Gray{Float64}(0.0332495)       Gray{Float64}(0.00380191) \n",
       " Gray{Float64}(0.411042)        Gray{Float64}(0.00217969) \n",
       " Gray{Float64}(0.00139599)      Gray{Float64}(0.00096178) \n",
       " Gray{Float64}(0.475995)     …  Gray{Float64}(0.000651822)\n",
       " Gray{Float64}(0.00386043)      Gray{Float64}(0.000224155)\n",
       " Gray{Float64}(0.00704312)      Gray{Float64}(0.0135652)  \n",
       " Gray{Float64}(0.0573666)       Gray{Float64}(0.00159371) \n",
       " Gray{Float64}(0.000289081)     Gray{Float64}(0.00195032) "
      ]
     },
     "metadata": {},
     "output_type": "display_data"
    },
    {
     "data": {
      "image/png": "[encoded data removed]",
      "text/plain": [
       "10×100 Array{Gray{Float64},2}:\n",
       " Gray{Float64}(0.00641468)   …  Gray{Float64}(3.60664e-5) \n",
       " Gray{Float64}(0.000442801)     Gray{Float64}(0.984583)   \n",
       " Gray{Float64}(0.02921)         Gray{Float64}(0.00287915) \n",
       " Gray{Float64}(0.471411)        Gray{Float64}(0.00173258) \n",
       " Gray{Float64}(0.000930378)     Gray{Float64}(0.00062788) \n",
       " Gray{Float64}(0.443412)     …  Gray{Float64}(0.000402172)\n",
       " Gray{Float64}(0.00292046)      Gray{Float64}(0.00013449) \n",
       " Gray{Float64}(0.00348458)      Gray{Float64}(0.00717656) \n",
       " Gray{Float64}(0.0415311)       Gray{Float64}(0.00089497) \n",
       " Gray{Float64}(0.000243781)     Gray{Float64}(0.00153306) "
      ]
     },
     "metadata": {},
     "output_type": "display_data"
    },
    {
     "data": {
      "image/png": "[encoded data removed]",
      "text/plain": [
       "10×100 Array{Gray{Float64},2}:\n",
       " Gray{Float64}(0.00508931)   …  Gray{Float64}(1.84376e-5) \n",
       " Gray{Float64}(0.000497888)     Gray{Float64}(0.99111)    \n",
       " Gray{Float64}(0.0343661)       Gray{Float64}(0.00217763) \n",
       " Gray{Float64}(0.435098)        Gray{Float64}(0.000983297)\n",
       " Gray{Float64}(0.000995362)     Gray{Float64}(0.000470384)\n",
       " Gray{Float64}(0.472894)     …  Gray{Float64}(0.000221354)\n",
       " Gray{Float64}(0.00277556)      Gray{Float64}(7.75014e-5) \n",
       " Gray{Float64}(0.00189958)      Gray{Float64}(0.00336993) \n",
       " Gray{Float64}(0.0461562)       Gray{Float64}(0.000549787)\n",
       " Gray{Float64}(0.000228291)     Gray{Float64}(0.00102143) "
      ]
     },
     "metadata": {},
     "output_type": "display_data"
    },
    {
     "data": {
      "image/png": "[encoded data removed]",
      "text/plain": [
       "10×100 Array{Gray{Float64},2}:\n",
       " Gray{Float64}(0.00297044)   …  Gray{Float64}(1.10554e-5) \n",
       " Gray{Float64}(0.000380098)     Gray{Float64}(0.992483)   \n",
       " Gray{Float64}(0.032334)        Gray{Float64}(0.00197322) \n",
       " Gray{Float64}(0.368828)        Gray{Float64}(0.000754746)\n",
       " Gray{Float64}(0.0010153)       Gray{Float64}(0.00049582) \n",
       " Gray{Float64}(0.555854)     …  Gray{Float64}(0.000183425)\n",
       " Gray{Float64}(0.00204307)      Gray{Float64}(5.3971e-5)  \n",
       " Gray{Float64}(0.00168109)      Gray{Float64}(0.00306205) \n",
       " Gray{Float64}(0.0347858)       Gray{Float64}(0.00037592) \n",
       " Gray{Float64}(0.000108154)     Gray{Float64}(0.000606413)"
      ]
     },
     "metadata": {},
     "output_type": "display_data"
    },
    {
     "data": {
      "image/png": "[encoded data removed]",
      "text/plain": [
       "10×100 Array{Gray{Float64},2}:\n",
       " Gray{Float64}(0.00303695)   …  Gray{Float64}(1.5626e-5)  \n",
       " Gray{Float64}(0.000191368)     Gray{Float64}(0.988432)   \n",
       " Gray{Float64}(0.0330877)       Gray{Float64}(0.00297023) \n",
       " Gray{Float64}(0.381113)        Gray{Float64}(0.00106434) \n",
       " Gray{Float64}(0.000566408)     Gray{Float64}(0.000503935)\n",
       " Gray{Float64}(0.53903)      …  Gray{Float64}(0.000209975)\n",
       " Gray{Float64}(0.00167792)      Gray{Float64}(6.34059e-5) \n",
       " Gray{Float64}(0.00226122)      Gray{Float64}(0.00548292) \n",
       " Gray{Float64}(0.0389622)       Gray{Float64}(0.00055946) \n",
       " Gray{Float64}(7.27934e-5)      Gray{Float64}(0.000697857)"
      ]
     },
     "metadata": {},
     "output_type": "display_data"
    },
    {
     "data": {
      "image/png": "[encoded data removed]",
      "text/plain": [
       "10×100 Array{Gray{Float64},2}:\n",
       " Gray{Float64}(0.0043194)    …  Gray{Float64}(2.49181e-5) \n",
       " Gray{Float64}(0.000122163)     Gray{Float64}(0.983422)   \n",
       " Gray{Float64}(0.0272271)       Gray{Float64}(0.00349476) \n",
       " Gray{Float64}(0.496468)        Gray{Float64}(0.00159853) \n",
       " Gray{Float64}(0.000308494)     Gray{Float64}(0.000457103)\n",
       " Gray{Float64}(0.431645)     …  Gray{Float64}(0.000201049)\n",
       " Gray{Float64}(0.00169588)      Gray{Float64}(7.82012e-5) \n",
       " Gray{Float64}(0.00311687)      Gray{Float64}(0.00897226) \n",
       " Gray{Float64}(0.0350023)       Gray{Float64}(0.000646558)\n",
       " Gray{Float64}(9.42935e-5)      Gray{Float64}(0.00110483) "
      ]
     },
     "metadata": {},
     "output_type": "display_data"
    },
    {
     "data": {
      "image/png": "[encoded data removed]",
      "text/plain": [
       "10×100 Array{Gray{Float64},2}:\n",
       " Gray{Float64}(0.00303416)   …  Gray{Float64}(1.41008e-5) \n",
       " Gray{Float64}(0.000178493)     Gray{Float64}(0.989701)   \n",
       " Gray{Float64}(0.0251973)       Gray{Float64}(0.00237128) \n",
       " Gray{Float64}(0.40365)         Gray{Float64}(0.000986161)\n",
       " Gray{Float64}(0.000413846)     Gray{Float64}(0.000438148)\n",
       " Gray{Float64}(0.54098)      …  Gray{Float64}(0.000159575)\n",
       " Gray{Float64}(0.00222348)      Gray{Float64}(6.42094e-5) \n",
       " Gray{Float64}(0.00218229)      Gray{Float64}(0.00522834) \n",
       " Gray{Float64}(0.0220641)       Gray{Float64}(0.000312294)\n",
       " Gray{Float64}(7.58056e-5)      Gray{Float64}(0.00072502) "
      ]
     },
     "metadata": {},
     "output_type": "display_data"
    },
    {
     "data": {
      "image/png": "[encoded data removed]",
      "text/plain": [
       "10×100 Array{Gray{Float64},2}:\n",
       " Gray{Float64}(0.00307734)   …  Gray{Float64}(1.16302e-5) \n",
       " Gray{Float64}(0.000214078)     Gray{Float64}(0.992017)   \n",
       " Gray{Float64}(0.0293827)       Gray{Float64}(0.00220917) \n",
       " Gray{Float64}(0.424389)        Gray{Float64}(0.0008153)  \n",
       " Gray{Float64}(0.000469321)     Gray{Float64}(0.000406854)\n",
       " Gray{Float64}(0.513372)     …  Gray{Float64}(0.000119588)\n",
       " Gray{Float64}(0.00169453)      Gray{Float64}(4.22302e-5) \n",
       " Gray{Float64}(0.00156958)      Gray{Float64}(0.0035169)  \n",
       " Gray{Float64}(0.0257629)       Gray{Float64}(0.000267654)\n",
       " Gray{Float64}(6.84614e-5)      Gray{Float64}(0.000593681)"
      ]
     },
     "metadata": {},
     "output_type": "display_data"
    },
    {
     "data": {
      "image/png": "[encoded data removed]",
      "text/plain": [
       "10×100 Array{Gray{Float64},2}:\n",
       " Gray{Float64}(0.00285564)   …  Gray{Float64}(1.12759e-5) \n",
       " Gray{Float64}(0.000189903)     Gray{Float64}(0.991244)   \n",
       " Gray{Float64}(0.0329293)       Gray{Float64}(0.00252534) \n",
       " Gray{Float64}(0.447617)        Gray{Float64}(0.000828805)\n",
       " Gray{Float64}(0.000315135)     Gray{Float64}(0.000328787)\n",
       " Gray{Float64}(0.469636)     …  Gray{Float64}(0.000104503)\n",
       " Gray{Float64}(0.00139393)      Gray{Float64}(3.61548e-5) \n",
       " Gray{Float64}(0.00183031)      Gray{Float64}(0.00398865) \n",
       " Gray{Float64}(0.0431776)       Gray{Float64}(0.000363171)\n",
       " Gray{Float64}(5.5175e-5)       Gray{Float64}(0.000569175)"
      ]
     },
     "metadata": {},
     "output_type": "display_data"
    },
    {
     "data": {
      "image/png": "[encoded data removed]",
      "text/plain": [
       "10×100 Array{Gray{Float64},2}:\n",
       " Gray{Float64}(0.00174051)   …  Gray{Float64}(1.00767e-5) \n",
       " Gray{Float64}(0.000144127)     Gray{Float64}(0.990158)   \n",
       " Gray{Float64}(0.024357)        Gray{Float64}(0.00256527) \n",
       " Gray{Float64}(0.347455)        Gray{Float64}(0.00085067) \n",
       " Gray{Float64}(0.000161845)     Gray{Float64}(0.000272615)\n",
       " Gray{Float64}(0.599596)     …  Gray{Float64}(0.000138514)\n",
       " Gray{Float64}(0.00122146)      Gray{Float64}(3.94923e-5) \n",
       " Gray{Float64}(0.00198311)      Gray{Float64}(0.00510233) \n",
       " Gray{Float64}(0.0232998)       Gray{Float64}(0.000285086)\n",
       " Gray{Float64}(4.08918e-5)      Gray{Float64}(0.000577927)"
      ]
     },
     "metadata": {},
     "output_type": "display_data"
    },
    {
     "data": {
      "image/png": "[encoded data removed]",
      "text/plain": [
       "10×100 Array{Gray{Float64},2}:\n",
       " Gray{Float64}(0.00221229)   …  Gray{Float64}(1.69078e-5) \n",
       " Gray{Float64}(8.41936e-5)      Gray{Float64}(0.98637)    \n",
       " Gray{Float64}(0.025848)        Gray{Float64}(0.00406194) \n",
       " Gray{Float64}(0.436505)        Gray{Float64}(0.00140509) \n",
       " Gray{Float64}(0.000124649)     Gray{Float64}(0.000349622)\n",
       " Gray{Float64}(0.511828)     …  Gray{Float64}(0.000154688)\n",
       " Gray{Float64}(0.000939556)     Gray{Float64}(4.72454e-5) \n",
       " Gray{Float64}(0.00150424)      Gray{Float64}(0.00631446) \n",
       " Gray{Float64}(0.0209102)       Gray{Float64}(0.000378719)\n",
       " Gray{Float64}(4.39989e-5)      Gray{Float64}(0.00090174) "
      ]
     },
     "metadata": {},
     "output_type": "display_data"
    }
   ],
   "source": [
    "Flux.train!(loss, train, ADAM(params(m)), cb = evalcb)"
   ]
  },
  {
   "cell_type": "markdown",
   "metadata": {},
   "source": [
    "Test set accuracy."
   ]
  },
  {
   "cell_type": "code",
   "execution_count": 13,
   "metadata": {},
   "outputs": [
    {
     "data": {
      "text/plain": [
       "0.834"
      ]
     },
     "execution_count": 13,
     "metadata": {},
     "output_type": "execute_result"
    }
   ],
   "source": [
    "mean(argmax(m(tX)) .== argmax(tY))"
   ]
  },
  {
   "cell_type": "code",
   "execution_count": null,
   "metadata": {
    "collapsed": true
   },
   "outputs": [],
   "source": []
  }
 ],
 "metadata": {
  "kernelspec": {
   "display_name": "Julia 0.6.2-pre",
   "language": "julia",
   "name": "julia-0.6"
  },
  "language_info": {
   "file_extension": ".jl",
   "mimetype": "application/julia",
   "name": "julia",
   "version": "0.6.2"
  }
 },
 "nbformat": 4,
 "nbformat_minor": 2
}
