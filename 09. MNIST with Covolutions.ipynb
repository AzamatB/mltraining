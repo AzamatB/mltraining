{
 "cells": [
  {
   "cell_type": "code",
   "execution_count": 1,
   "metadata": {
    "collapsed": true
   },
   "outputs": [],
   "source": [
    "using Flux, Flux.Data.MNIST, Images\n",
    "using Flux: onehotbatch, argmax, crossentropy, throttle\n",
    "using Base.Iterators: repeated, partition\n",
    "#using CuArrays"
   ]
  },
  {
   "cell_type": "code",
   "execution_count": 2,
   "metadata": {
    "scrolled": true
   },
   "outputs": [
    {
     "data": {
      "text/html": [
       "<table><tbody><tr><td style='text-align:center;vertical-align:middle; margin: 0.5em;border:1px #90999f solid;border-collapse:collapse'><img style='max-width: 100px; max-height:100px;display:inline' src=\"data:image/png;base64,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\"></td><td style='text-align:center;vertical-align:middle; margin: 0.5em;border:1px #90999f solid;border-collapse:collapse'><img style='max-width: 100px; max-height:100px;display:inline' src=\"data:image/png;base64,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\"></td><td style='text-align:center;vertical-align:middle; margin: 0.5em;border:1px #90999f solid;border-collapse:collapse'><img style='max-width: 100px; max-height:100px;display:inline' src=\"data:image/png;base64,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\"></td><td style='text-align:center;vertical-align:middle; margin: 0.5em;border:1px #90999f solid;border-collapse:collapse'><img style='max-width: 100px; max-height:100px;display:inline' src=\"data:image/png;base64,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\"></td><td style='text-align:center;vertical-align:middle; margin: 0.5em;border:1px #90999f solid;border-collapse:collapse'><img style='max-width: 100px; max-height:100px;display:inline' src=\"data:image/png;base64,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\"></td><td style='text-align:center;vertical-align:middle; margin: 0.5em;border:1px #90999f solid;border-collapse:collapse'><img style='max-width: 100px; max-height:100px;display:inline' src=\"data:image/png;base64,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\"></td><td style='text-align:center;vertical-align:middle; margin: 0.5em;border:1px #90999f solid;border-collapse:collapse'><img style='max-width: 100px; max-height:100px;display:inline' src=\"data:image/png;base64,iVBORw0KGgoAAAANSUhEUgAAAHAAAABwCAAAAADji6uXAAAEPWlDQ1BJQ0MgUHJvZmlsZQAAOI2NVVtoHFUY/nfn7AYkDj5oG1poBy9tKWmYRKuJxdrtZrtJEzfrZlObKspkdjY73dmZcWZ2m4Q+lYJvWhCkr4L6GAsiWC/YvNiXisWSSjUPChFajCAofVLwO2cmm9kNXmY453znv53//BcOUc8fmutaSYWoYQdevpSZPT17Rum5SUmSqZfwabrvZorFSY5txzZo23f/NiX4eusQt7Wd/69fqmL4OtZrGE7F1xtECZUoXdVdLyDquQz68LnA5fgm8MP1cikLvA4sR7r8eyRv2IZn6kre0xaVoudUTSvu63/x/9fXsJqb5+3F6PXr0xNYD8Lni4Y9Mw18AHhZ13Ic9wPfbpmnCiFOJt3geCmUTw406zOZiH666p2YiegXa80xjgeAl5dq5ZeAHwJes+cKU5H8Rt2Z4Hb6iKQ+3c+eAX4cWK0Z4zxPCnDZc0pTET2oGKM54GeBL5vBeDm0L33rt6ZzIWa0VMsWwrPYwFntZBF4B/BRw8qXQjus7AZFbnMYeMG2CpOhz+yK4eeiu7Pvg1p5LJRPJQOvzHUfBd5XNU+Mh/6nxmreWCn0JxW4lqitp4GXvWaJ330f8Lrm5fKhzfQDFW2Ux/kp4CE6ldDIIIfmMOtk01+4r08mtQRyyQOvir1FeUjYGB52Onh5II0WgYoxKQM7LhPuFKpgp9C80PIF4lbuRlaye96nJqg12gC1BvQC/SgoC/QTNbBmQW2CN99lN4vVpiV4oESe3YtsOmwnU9mTGEfYJHuODbMRUtjz7Bg7ykZBHWFHYt7Hfefe3Wtbeh3nxn1fgUQAHQue2dDxRaSW6E/w60IyFq1Lu5oHXPedNy94r5n6N2/91hE9H/Kh3Z9h0RH0mO7185/3xeO7yj555Vbv9fM0Fc+SyFulO0up9dTd1CrmO6m1uI3UD6k1/He23Zf7s5mVzdxmwLMErYFhCo7fttYEDjBXhc6hDotx7LTtz2M4205x/jEmHGuilmI3q9qXdrnuqx/waBpvFO4X6EK/ekXdUN9Tv1N/VVfVd4F+kd6WPpa+kK5Kn0o3SJGuSSvSl9JX0ofSZ9h9BOqKdLWrkuY7q6dds3pUYZwbiHxnYlHh1M37nQVvy1NDxKHzhM7qb58lH5d3y4/Jo/Je+Ql5Uj4oH5aPyTvlIYxBeUzeD87udpSsKANmV8eZNCtiFebJFt2kgd/ArMX8CmVjMU88iDibXV2+2f2m6MawOh3sNZoBMumc0PVFfmzR/d3aS+J0J/EyjyDbwwbZeNSDGXYYXTjR0Y/DvEvTufRoOkNK+mB6JD2YPsnxVu2m94M7gjkX895oR3arh+ZEndZFjFpCwsdMgbEQ8Ecm67iLnjlfC5QhVX1GyeB5NZRxWx/oVzTLUgTLVzzDN7yWURkg/naHz9PvL4o3ObHjht70WtGblUh8TfQ3t4+TNAOs8McAAAGoSURBVGgF7ZkxTgMxFEQTREXFCVAEFNBAxS1CSqrUoUNcAIkrIFEg7pBLcAZIUKQUqalTEpgveZVNpPV6vlYurLE0sq383W+/sTfepNdTEQEREAEREAER6LMIXnDBA/QJDaEVxJQDJriL2PITHjKYBggeQxvoErqA5CEg7JTsi4by8Adj/YBGO2PmOtlnWH5CysM17GL33b7D5SPNPkPKw2MYcr1vCtnPPsPyE1IeHsGvk5pnN2h/Q8zeLB9p9hn2a5YkNZ8Q9Qz9hehH1K+hnVJln2H5CWkPzadfSB42rdjsi4Z6llajtlHa+4WnZJ9h+QldHpp/1T5kfSwfqWbIronWeCFtRcQGCClLrDXedaax52j1fThF+641zTZAHm5ZdNRyeVg/l9o4rqBZ4oDkYSKo9DDXmeYN97+v5Zigbe+JKUUeplCiYlwe2m8z3iIPveQar3M9S+1uC+gs3NZ8OYeWoR+r5GGMjusz1z60TF/QaUhZnW9CN1rJwygez4duD9+R7daRUR46oMUvcXto59A5ZP/nM0UeMrQUKwIiIAIiIAIikEjgH+maJOHc0HlnAAAAAElFTkSuQmCC\"></td><td style='text-align:center;vertical-align:middle; margin: 0.5em;border:1px #90999f solid;border-collapse:collapse'><img style='max-width: 100px; max-height:100px;display:inline' src=\"data:image/png;base64,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\"></td><td style='text-align:center;vertical-align:middle; margin: 0.5em;border:1px #90999f solid;border-collapse:collapse'><img style='max-width: 100px; max-height:100px;display:inline' src=\"data:image/png;base64,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\"></td><td style='text-align:center;vertical-align:middle; margin: 0.5em;border:1px #90999f solid;border-collapse:collapse'><img style='max-width: 100px; max-height:100px;display:inline' src=\"data:image/png;base64,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\"></td></tr></tbody></table><div><small>(a vector displayed as a row to save space)</small></div>"
      ],
      "text/plain": [
       "10-element Array{Array{ColorTypes.Gray{FixedPointNumbers.Normed{UInt8,8}},2},1}:\n",
       " ColorTypes.Gray{FixedPointNumbers.Normed{UInt8,8}}[Gray{N0f8}(0.0) Gray{N0f8}(0.0) … Gray{N0f8}(0.0) Gray{N0f8}(0.0); Gray{N0f8}(0.0) Gray{N0f8}(0.0) … Gray{N0f8}(0.0) Gray{N0f8}(0.0); … ; Gray{N0f8}(0.0) Gray{N0f8}(0.0) … Gray{N0f8}(0.0) Gray{N0f8}(0.0); Gray{N0f8}(0.0) Gray{N0f8}(0.0) … Gray{N0f8}(0.0) Gray{N0f8}(0.0)]\n",
       " ColorTypes.Gray{FixedPointNumbers.Normed{UInt8,8}}[Gray{N0f8}(0.0) Gray{N0f8}(0.0) … Gray{N0f8}(0.0) Gray{N0f8}(0.0); Gray{N0f8}(0.0) Gray{N0f8}(0.0) … Gray{N0f8}(0.0) Gray{N0f8}(0.0); … ; Gray{N0f8}(0.0) Gray{N0f8}(0.0) … Gray{N0f8}(0.0) Gray{N0f8}(0.0); Gray{N0f8}(0.0) Gray{N0f8}(0.0) … Gray{N0f8}(0.0) Gray{N0f8}(0.0)]\n",
       " ColorTypes.Gray{FixedPointNumbers.Normed{UInt8,8}}[Gray{N0f8}(0.0) Gray{N0f8}(0.0) … Gray{N0f8}(0.0) Gray{N0f8}(0.0); Gray{N0f8}(0.0) Gray{N0f8}(0.0) … Gray{N0f8}(0.0) Gray{N0f8}(0.0); … ; Gray{N0f8}(0.0) Gray{N0f8}(0.0) … Gray{N0f8}(0.0) Gray{N0f8}(0.0); Gray{N0f8}(0.0) Gray{N0f8}(0.0) … Gray{N0f8}(0.0) Gray{N0f8}(0.0)]\n",
       " ColorTypes.Gray{FixedPointNumbers.Normed{UInt8,8}}[Gray{N0f8}(0.0) Gray{N0f8}(0.0) … Gray{N0f8}(0.0) Gray{N0f8}(0.0); Gray{N0f8}(0.0) Gray{N0f8}(0.0) … Gray{N0f8}(0.0) Gray{N0f8}(0.0); … ; Gray{N0f8}(0.0) Gray{N0f8}(0.0) … Gray{N0f8}(0.0) Gray{N0f8}(0.0); Gray{N0f8}(0.0) Gray{N0f8}(0.0) … Gray{N0f8}(0.0) Gray{N0f8}(0.0)]\n",
       " ColorTypes.Gray{FixedPointNumbers.Normed{UInt8,8}}[Gray{N0f8}(0.0) Gray{N0f8}(0.0) … Gray{N0f8}(0.0) Gray{N0f8}(0.0); Gray{N0f8}(0.0) Gray{N0f8}(0.0) … Gray{N0f8}(0.0) Gray{N0f8}(0.0); … ; Gray{N0f8}(0.0) Gray{N0f8}(0.0) … Gray{N0f8}(0.0) Gray{N0f8}(0.0); Gray{N0f8}(0.0) Gray{N0f8}(0.0) … Gray{N0f8}(0.0) Gray{N0f8}(0.0)]\n",
       " ColorTypes.Gray{FixedPointNumbers.Normed{UInt8,8}}[Gray{N0f8}(0.0) Gray{N0f8}(0.0) … Gray{N0f8}(0.0) Gray{N0f8}(0.0); Gray{N0f8}(0.0) Gray{N0f8}(0.0) … Gray{N0f8}(0.0) Gray{N0f8}(0.0); … ; Gray{N0f8}(0.0) Gray{N0f8}(0.0) … Gray{N0f8}(0.0) Gray{N0f8}(0.0); Gray{N0f8}(0.0) Gray{N0f8}(0.0) … Gray{N0f8}(0.0) Gray{N0f8}(0.0)]\n",
       " ColorTypes.Gray{FixedPointNumbers.Normed{UInt8,8}}[Gray{N0f8}(0.0) Gray{N0f8}(0.0) … Gray{N0f8}(0.0) Gray{N0f8}(0.0); Gray{N0f8}(0.0) Gray{N0f8}(0.0) … Gray{N0f8}(0.0) Gray{N0f8}(0.0); … ; Gray{N0f8}(0.0) Gray{N0f8}(0.0) … Gray{N0f8}(0.0) Gray{N0f8}(0.0); Gray{N0f8}(0.0) Gray{N0f8}(0.0) … Gray{N0f8}(0.0) Gray{N0f8}(0.0)]\n",
       " ColorTypes.Gray{FixedPointNumbers.Normed{UInt8,8}}[Gray{N0f8}(0.0) Gray{N0f8}(0.0) … Gray{N0f8}(0.0) Gray{N0f8}(0.0); Gray{N0f8}(0.0) Gray{N0f8}(0.0) … Gray{N0f8}(0.0) Gray{N0f8}(0.0); … ; Gray{N0f8}(0.0) Gray{N0f8}(0.0) … Gray{N0f8}(0.0) Gray{N0f8}(0.0); Gray{N0f8}(0.0) Gray{N0f8}(0.0) … Gray{N0f8}(0.0) Gray{N0f8}(0.0)]\n",
       " ColorTypes.Gray{FixedPointNumbers.Normed{UInt8,8}}[Gray{N0f8}(0.0) Gray{N0f8}(0.0) … Gray{N0f8}(0.0) Gray{N0f8}(0.0); Gray{N0f8}(0.0) Gray{N0f8}(0.0) … Gray{N0f8}(0.0) Gray{N0f8}(0.0); … ; Gray{N0f8}(0.0) Gray{N0f8}(0.0) … Gray{N0f8}(0.0) Gray{N0f8}(0.0); Gray{N0f8}(0.0) Gray{N0f8}(0.0) … Gray{N0f8}(0.0) Gray{N0f8}(0.0)]\n",
       " ColorTypes.Gray{FixedPointNumbers.Normed{UInt8,8}}[Gray{N0f8}(0.0) Gray{N0f8}(0.0) … Gray{N0f8}(0.0) Gray{N0f8}(0.0); Gray{N0f8}(0.0) Gray{N0f8}(0.0) … Gray{N0f8}(0.0) Gray{N0f8}(0.0); … ; Gray{N0f8}(0.0) Gray{N0f8}(0.0) … Gray{N0f8}(0.0) Gray{N0f8}(0.0); Gray{N0f8}(0.0) Gray{N0f8}(0.0) … Gray{N0f8}(0.0) Gray{N0f8}(0.0)]"
      ]
     },
     "execution_count": 2,
     "metadata": {},
     "output_type": "execute_result"
    }
   ],
   "source": [
    "imgs = MNIST.images()\n",
    "\n",
    "labels = gpu(collect(onehotbatch(MNIST.labels(), 0:9)))\n",
    "\n",
    "imgs[1:10]"
   ]
  },
  {
   "cell_type": "code",
   "execution_count": 3,
   "metadata": {
    "collapsed": true
   },
   "outputs": [],
   "source": [
    "# Partition into batches of size 1,000\n",
    "train = [(gpu(cat(4, float.(imgs[i])...)), labels[:,i])\n",
    "         for i in partition(1:60_000, 1000)]\n",
    "\n",
    "# Prepare test set (first 1,000 images)\n",
    "tX = gpu(cat(4, float.(MNIST.images(:test)[1:1000])...))\n",
    "tY = gpu(onehotbatch(MNIST.labels(:test)[1:1000], 0:9));"
   ]
  },
  {
   "cell_type": "code",
   "execution_count": 4,
   "metadata": {},
   "outputs": [
    {
     "data": {
      "text/plain": [
       "loss (generic function with 1 method)"
      ]
     },
     "execution_count": 4,
     "metadata": {},
     "output_type": "execute_result"
    }
   ],
   "source": [
    "m = Chain(\n",
    "  Conv((2,2), 1=>16, relu),\n",
    "  x -> maxpool(x, (2,2)),\n",
    "  Conv((2,2), 16=>8, relu),\n",
    "  x -> maxpool(x, (2,2)),\n",
    "  x -> reshape(x, :, size(x, 4)),\n",
    "  Dense(288, 10), softmax)\n",
    "\n",
    "m = gpu(m)\n",
    "\n",
    "loss(x, y) = crossentropy(m(x), y)"
   ]
  },
  {
   "cell_type": "code",
   "execution_count": 5,
   "metadata": {},
   "outputs": [
    {
     "data": {
      "image/png": "[encoded data removed]",
      "text/plain": [
       "10×100 Array{Gray{Bool},2}:\n",
       " Gray{Bool}(false)  Gray{Bool}(true)   …  Gray{Bool}(false)\n",
       " Gray{Bool}(false)  Gray{Bool}(false)     Gray{Bool}(true) \n",
       " Gray{Bool}(false)  Gray{Bool}(false)     Gray{Bool}(false)\n",
       " Gray{Bool}(false)  Gray{Bool}(false)     Gray{Bool}(false)\n",
       " Gray{Bool}(false)  Gray{Bool}(false)     Gray{Bool}(false)\n",
       " Gray{Bool}(true)   Gray{Bool}(false)  …  Gray{Bool}(false)\n",
       " Gray{Bool}(false)  Gray{Bool}(false)     Gray{Bool}(false)\n",
       " Gray{Bool}(false)  Gray{Bool}(false)     Gray{Bool}(false)\n",
       " Gray{Bool}(false)  Gray{Bool}(false)     Gray{Bool}(false)\n",
       " Gray{Bool}(false)  Gray{Bool}(false)     Gray{Bool}(false)"
      ]
     },
     "execution_count": 5,
     "metadata": {},
     "output_type": "execute_result"
    }
   ],
   "source": [
    "Gray.(collect(labels[:,1:100]))"
   ]
  },
  {
   "cell_type": "code",
   "execution_count": 6,
   "metadata": {},
   "outputs": [
    {
     "data": {
      "image/png": "[encoded data removed]",
      "text/plain": [
       "10×100 Array{Gray{Float64},2}:\n",
       " Gray{Float64}(0.100046)   …  Gray{Float64}(0.0999856)\n",
       " Gray{Float64}(0.100039)      Gray{Float64}(0.0999964)\n",
       " Gray{Float64}(0.0998926)     Gray{Float64}(0.0999295)\n",
       " Gray{Float64}(0.0998533)     Gray{Float64}(0.0998719)\n",
       " Gray{Float64}(0.100057)      Gray{Float64}(0.100082) \n",
       " Gray{Float64}(0.0999569)  …  Gray{Float64}(0.0999224)\n",
       " Gray{Float64}(0.100004)      Gray{Float64}(0.100006) \n",
       " Gray{Float64}(0.100027)      Gray{Float64}(0.100022) \n",
       " Gray{Float64}(0.100101)      Gray{Float64}(0.100194) \n",
       " Gray{Float64}(0.100024)      Gray{Float64}(0.0999905)"
      ]
     },
     "execution_count": 6,
     "metadata": {},
     "output_type": "execute_result"
    }
   ],
   "source": [
    "Gray.(collect(m(train[1][1]).data)[:,1:100])"
   ]
  },
  {
   "cell_type": "code",
   "execution_count": 7,
   "metadata": {},
   "outputs": [
    {
     "data": {
      "text/plain": [
       "(::throttled) (generic function with 1 method)"
      ]
     },
     "execution_count": 7,
     "metadata": {},
     "output_type": "execute_result"
    }
   ],
   "source": [
    "evalcb = throttle(5) do\n",
    "    display(Gray.(collect(m(train[1][1]).data)[:,1:100]))\n",
    "end"
   ]
  },
  {
   "cell_type": "code",
   "execution_count": 8,
   "metadata": {},
   "outputs": [
    {
     "data": {
      "image/png": "[encoded data removed]",
      "text/plain": [
       "10×100 Array{Gray{Float64},2}:\n",
       " Gray{Float64}(0.0999471)  …  Gray{Float64}(0.0999478)\n",
       " Gray{Float64}(0.100188)      Gray{Float64}(0.100154) \n",
       " Gray{Float64}(0.0998705)     Gray{Float64}(0.099924) \n",
       " Gray{Float64}(0.09982)       Gray{Float64}(0.0998259)\n",
       " Gray{Float64}(0.100098)      Gray{Float64}(0.100132) \n",
       " Gray{Float64}(0.0999645)  …  Gray{Float64}(0.0998026)\n",
       " Gray{Float64}(0.0999519)     Gray{Float64}(0.0999127)\n",
       " Gray{Float64}(0.100161)      Gray{Float64}(0.100158) \n",
       " Gray{Float64}(0.10007)       Gray{Float64}(0.100203) \n",
       " Gray{Float64}(0.0999286)     Gray{Float64}(0.0999399)"
      ]
     },
     "metadata": {},
     "output_type": "display_data"
    },
    {
     "data": {
      "image/png": "[encoded data removed]",
      "text/plain": [
       "10×100 Array{Gray{Float64},2}:\n",
       " Gray{Float64}(0.0993359)  …  Gray{Float64}(0.0992036)\n",
       " Gray{Float64}(0.100724)      Gray{Float64}(0.10082)  \n",
       " Gray{Float64}(0.0994819)     Gray{Float64}(0.0994824)\n",
       " Gray{Float64}(0.0995163)     Gray{Float64}(0.09961)  \n",
       " Gray{Float64}(0.100207)      Gray{Float64}(0.10041)  \n",
       " Gray{Float64}(0.0995089)  …  Gray{Float64}(0.0991147)\n",
       " Gray{Float64}(0.100196)      Gray{Float64}(0.100239) \n",
       " Gray{Float64}(0.100896)      Gray{Float64}(0.100716) \n",
       " Gray{Float64}(0.0999141)     Gray{Float64}(0.100201) \n",
       " Gray{Float64}(0.100219)      Gray{Float64}(0.100203) "
      ]
     },
     "metadata": {},
     "output_type": "display_data"
    },
    {
     "data": {
      "image/png": "[encoded data removed]",
      "text/plain": [
       "10×100 Array{Gray{Float64},2}:\n",
       " Gray{Float64}(0.0996386)  …  Gray{Float64}(0.0988746)\n",
       " Gray{Float64}(0.101774)      Gray{Float64}(0.102248) \n",
       " Gray{Float64}(0.0990426)     Gray{Float64}(0.0990855)\n",
       " Gray{Float64}(0.0992986)     Gray{Float64}(0.0995625)\n",
       " Gray{Float64}(0.0996957)     Gray{Float64}(0.100066) \n",
       " Gray{Float64}(0.0981062)  …  Gray{Float64}(0.0973913)\n",
       " Gray{Float64}(0.100334)      Gray{Float64}(0.100473) \n",
       " Gray{Float64}(0.10213)       Gray{Float64}(0.1016)   \n",
       " Gray{Float64}(0.100021)      Gray{Float64}(0.10069)  \n",
       " Gray{Float64}(0.0999607)     Gray{Float64}(0.100009) "
      ]
     },
     "metadata": {},
     "output_type": "display_data"
    },
    {
     "data": {
      "image/png": "[encoded data removed]",
      "text/plain": [
       "10×100 Array{Gray{Float64},2}:\n",
       " Gray{Float64}(0.100447)   …  Gray{Float64}(0.0983257)\n",
       " Gray{Float64}(0.10307)       Gray{Float64}(0.104594) \n",
       " Gray{Float64}(0.0985772)     Gray{Float64}(0.0984163)\n",
       " Gray{Float64}(0.0992543)     Gray{Float64}(0.0996013)\n",
       " Gray{Float64}(0.0985031)     Gray{Float64}(0.099195) \n",
       " Gray{Float64}(0.0957662)  …  Gray{Float64}(0.0948872)\n",
       " Gray{Float64}(0.100029)      Gray{Float64}(0.100349) \n",
       " Gray{Float64}(0.104055)      Gray{Float64}(0.102919) \n",
       " Gray{Float64}(0.100411)      Gray{Float64}(0.101639) \n",
       " Gray{Float64}(0.0998888)     Gray{Float64}(0.100073) "
      ]
     },
     "metadata": {},
     "output_type": "display_data"
    },
    {
     "data": {
      "image/png": "[encoded data removed]",
      "text/plain": [
       "10×100 Array{Gray{Float64},2}:\n",
       " Gray{Float64}(0.101792)   …  Gray{Float64}(0.0972155)\n",
       " Gray{Float64}(0.104958)      Gray{Float64}(0.108534) \n",
       " Gray{Float64}(0.0980585)     Gray{Float64}(0.097489) \n",
       " Gray{Float64}(0.0994458)     Gray{Float64}(0.099612) \n",
       " Gray{Float64}(0.0965188)     Gray{Float64}(0.0978884)\n",
       " Gray{Float64}(0.0925373)  …  Gray{Float64}(0.0913451)\n",
       " Gray{Float64}(0.0990615)     Gray{Float64}(0.0996861)\n",
       " Gray{Float64}(0.106492)      Gray{Float64}(0.10451)  \n",
       " Gray{Float64}(0.101439)      Gray{Float64}(0.103408) \n",
       " Gray{Float64}(0.0996972)     Gray{Float64}(0.100312) "
      ]
     },
     "metadata": {},
     "output_type": "display_data"
    },
    {
     "data": {
      "image/png": "[encoded data removed]",
      "text/plain": [
       "10×100 Array{Gray{Float64},2}:\n",
       " Gray{Float64}(0.104422)   …  Gray{Float64}(0.095369) \n",
       " Gray{Float64}(0.106425)      Gray{Float64}(0.114238) \n",
       " Gray{Float64}(0.0987832)     Gray{Float64}(0.097224) \n",
       " Gray{Float64}(0.100153)      Gray{Float64}(0.0994708)\n",
       " Gray{Float64}(0.0941975)     Gray{Float64}(0.0965264)\n",
       " Gray{Float64}(0.0891807)  …  Gray{Float64}(0.0871933)\n",
       " Gray{Float64}(0.0977246)     Gray{Float64}(0.0987854)\n",
       " Gray{Float64}(0.108627)      Gray{Float64}(0.105844) \n",
       " Gray{Float64}(0.102387)      Gray{Float64}(0.10559)  \n",
       " Gray{Float64}(0.0981)        Gray{Float64}(0.0997586)"
      ]
     },
     "metadata": {},
     "output_type": "display_data"
    },
    {
     "data": {
      "image/png": "[encoded data removed]",
      "text/plain": [
       "10×100 Array{Gray{Float64},2}:\n",
       " Gray{Float64}(0.107389)   …  Gray{Float64}(0.0928687)\n",
       " Gray{Float64}(0.107129)      Gray{Float64}(0.120746) \n",
       " Gray{Float64}(0.100499)      Gray{Float64}(0.0974265)\n",
       " Gray{Float64}(0.100445)      Gray{Float64}(0.0985717)\n",
       " Gray{Float64}(0.0912753)     Gray{Float64}(0.09488)  \n",
       " Gray{Float64}(0.0875101)  …  Gray{Float64}(0.0840057)\n",
       " Gray{Float64}(0.0965873)     Gray{Float64}(0.0978565)\n",
       " Gray{Float64}(0.110131)      Gray{Float64}(0.10684)  \n",
       " Gray{Float64}(0.103909)      Gray{Float64}(0.108316) \n",
       " Gray{Float64}(0.0951258)     Gray{Float64}(0.0984888)"
      ]
     },
     "metadata": {},
     "output_type": "display_data"
    },
    {
     "data": {
      "image/png": "[encoded data removed]",
      "text/plain": [
       "10×100 Array{Gray{Float64},2}:\n",
       " Gray{Float64}(0.111523)   …  Gray{Float64}(0.0892336)\n",
       " Gray{Float64}(0.106653)      Gray{Float64}(0.129319) \n",
       " Gray{Float64}(0.103315)      Gray{Float64}(0.0981609)\n",
       " Gray{Float64}(0.100612)      Gray{Float64}(0.0966772)\n",
       " Gray{Float64}(0.087484)      Gray{Float64}(0.0927373)\n",
       " Gray{Float64}(0.086079)   …  Gray{Float64}(0.0801466)\n",
       " Gray{Float64}(0.0945591)     Gray{Float64}(0.0960246)\n",
       " Gray{Float64}(0.111317)      Gray{Float64}(0.107872) \n",
       " Gray{Float64}(0.106621)      Gray{Float64}(0.112445) \n",
       " Gray{Float64}(0.0918386)     Gray{Float64}(0.0973839)"
      ]
     },
     "metadata": {},
     "output_type": "display_data"
    },
    {
     "data": {
      "image/png": "[encoded data removed]",
      "text/plain": [
       "10×100 Array{Gray{Float64},2}:\n",
       " Gray{Float64}(0.116273)   …  Gray{Float64}(0.082435) \n",
       " Gray{Float64}(0.103773)      Gray{Float64}(0.144348) \n",
       " Gray{Float64}(0.109374)      Gray{Float64}(0.0997965)\n",
       " Gray{Float64}(0.104591)      Gray{Float64}(0.0959117)\n",
       " Gray{Float64}(0.0824613)     Gray{Float64}(0.0896612)\n",
       " Gray{Float64}(0.0845308)  …  Gray{Float64}(0.0738767)\n",
       " Gray{Float64}(0.0903396)     Gray{Float64}(0.0917668)\n",
       " Gray{Float64}(0.109806)      Gray{Float64}(0.106885) \n",
       " Gray{Float64}(0.112354)      Gray{Float64}(0.119611) \n",
       " Gray{Float64}(0.0864971)     Gray{Float64}(0.0957081)"
      ]
     },
     "metadata": {},
     "output_type": "display_data"
    },
    {
     "data": {
      "image/png": "[encoded data removed]",
      "text/plain": [
       "10×100 Array{Gray{Float64},2}:\n",
       " Gray{Float64}(0.121172)   …  Gray{Float64}(0.0730184)\n",
       " Gray{Float64}(0.0975925)     Gray{Float64}(0.166761) \n",
       " Gray{Float64}(0.120605)      Gray{Float64}(0.103049) \n",
       " Gray{Float64}(0.110062)      Gray{Float64}(0.0936685)\n",
       " Gray{Float64}(0.0766462)     Gray{Float64}(0.0857781)\n",
       " Gray{Float64}(0.0860743)  …  Gray{Float64}(0.0675165)\n",
       " Gray{Float64}(0.0847529)     Gray{Float64}(0.0856429)\n",
       " Gray{Float64}(0.107775)      Gray{Float64}(0.105135) \n",
       " Gray{Float64}(0.117217)      Gray{Float64}(0.127028) \n",
       " Gray{Float64}(0.0781021)     Gray{Float64}(0.0924032)"
      ]
     },
     "metadata": {},
     "output_type": "display_data"
    },
    {
     "data": {
      "image/png": "[encoded data removed]",
      "text/plain": [
       "10×100 Array{Gray{Float64},2}:\n",
       " Gray{Float64}(0.118286)   …  Gray{Float64}(0.0594298)\n",
       " Gray{Float64}(0.0871065)     Gray{Float64}(0.198487) \n",
       " Gray{Float64}(0.135844)      Gray{Float64}(0.10551)  \n",
       " Gray{Float64}(0.119478)      Gray{Float64}(0.090392) \n",
       " Gray{Float64}(0.0695007)     Gray{Float64}(0.0802263)\n",
       " Gray{Float64}(0.0953174)  …  Gray{Float64}(0.0620439)\n",
       " Gray{Float64}(0.0755695)     Gray{Float64}(0.0758972)\n",
       " Gray{Float64}(0.108347)      Gray{Float64}(0.104444) \n",
       " Gray{Float64}(0.124191)      Gray{Float64}(0.137048) \n",
       " Gray{Float64}(0.0663591)     Gray{Float64}(0.0865223)"
      ]
     },
     "metadata": {},
     "output_type": "display_data"
    },
    {
     "data": {
      "image/png": "[encoded data removed]",
      "text/plain": [
       "10×100 Array{Gray{Float64},2}:\n",
       " Gray{Float64}(0.109)      …  Gray{Float64}(0.0468709)\n",
       " Gray{Float64}(0.0784207)     Gray{Float64}(0.237253) \n",
       " Gray{Float64}(0.144294)      Gray{Float64}(0.103265) \n",
       " Gray{Float64}(0.130013)      Gray{Float64}(0.0860149)\n",
       " Gray{Float64}(0.0644821)     Gray{Float64}(0.0752949)\n",
       " Gray{Float64}(0.113381)   …  Gray{Float64}(0.059014) \n",
       " Gray{Float64}(0.0683493)     Gray{Float64}(0.0670937)\n",
       " Gray{Float64}(0.110443)      Gray{Float64}(0.104323) \n",
       " Gray{Float64}(0.1268)        Gray{Float64}(0.141959) \n",
       " Gray{Float64}(0.0548161)     Gray{Float64}(0.0789128)"
      ]
     },
     "metadata": {},
     "output_type": "display_data"
    },
    {
     "data": {
      "image/png": "[encoded data removed]",
      "text/plain": [
       "10×100 Array{Gray{Float64},2}:\n",
       " Gray{Float64}(0.0917271)  …  Gray{Float64}(0.0311062)\n",
       " Gray{Float64}(0.0645117)     Gray{Float64}(0.307798) \n",
       " Gray{Float64}(0.144939)      Gray{Float64}(0.0924711)\n",
       " Gray{Float64}(0.145149)      Gray{Float64}(0.0766798)\n",
       " Gray{Float64}(0.0593668)     Gray{Float64}(0.0685591)\n",
       " Gray{Float64}(0.154689)   …  Gray{Float64}(0.0543842)\n",
       " Gray{Float64}(0.056692)      Gray{Float64}(0.0534064)\n",
       " Gray{Float64}(0.113766)      Gray{Float64}(0.10305)  \n",
       " Gray{Float64}(0.128611)      Gray{Float64}(0.144998) \n",
       " Gray{Float64}(0.0405486)     Gray{Float64}(0.0675481)"
      ]
     },
     "metadata": {},
     "output_type": "display_data"
    }
   ],
   "source": [
    "Flux.train!(loss, train, ADAM(params(m)), cb = evalcb)"
   ]
  },
  {
   "cell_type": "markdown",
   "metadata": {},
   "source": [
    "Test set accuracy."
   ]
  },
  {
   "cell_type": "code",
   "execution_count": 9,
   "metadata": {},
   "outputs": [
    {
     "data": {
      "text/plain": [
       "0.693"
      ]
     },
     "execution_count": 9,
     "metadata": {},
     "output_type": "execute_result"
    }
   ],
   "source": [
    "mean(argmax(m(tX)) .== argmax(tY))"
   ]
  },
  {
   "cell_type": "code",
   "execution_count": null,
   "metadata": {
    "collapsed": true
   },
   "outputs": [],
   "source": []
  }
 ],
 "metadata": {
  "kernelspec": {
   "display_name": "Julia 0.6.2-pre",
   "language": "julia",
   "name": "julia-0.6"
  },
  "language_info": {
   "file_extension": ".jl",
   "mimetype": "application/julia",
   "name": "julia",
   "version": "0.6.2"
  }
 },
 "nbformat": 4,
 "nbformat_minor": 2
}
