{
 "cells": [
  {
   "cell_type": "markdown",
   "metadata": {},
   "source": [
    "# Modeling data "
   ]
  },
  {
   "cell_type": "markdown",
   "metadata": {},
   "source": [
    "## Building a model\n",
    "\n",
    "We start our exploration of machine learning with the idea of a _model_. We want to use a mathematical function to classify an image as an apple or a banana based on the average amount of green in an image:\n",
    "\n",
    "<img src=\"data/data_flow.png\" alt=\"Drawing\" style=\"width: 500px;\"/>\n",
    "\n",
    "\n",
    "<img src=\"data/what_is_model.png\" alt=\"Drawing\" style=\"width: 300px;\"/>"
   ]
  },
  {
   "cell_type": "markdown",
   "metadata": {},
   "source": [
    "We use the `Images` package to load images from disk."
   ]
  },
  {
   "cell_type": "code",
   "execution_count": 12,
   "metadata": {
    "collapsed": true
   },
   "outputs": [],
   "source": [
    "using Images"
   ]
  },
  {
   "cell_type": "code",
   "execution_count": 13,
   "metadata": {},
   "outputs": [
    {
     "data": {
      "image/png": "[encoded data removed]",
      "text/plain": [
       "100×100 Array{RGB4{N0f8},2}:\n",
       " RGB4{N0f8}(0.996,1.0,0.984)    …  RGB4{N0f8}(1.0,1.0,1.0)\n",
       " RGB4{N0f8}(0.984,1.0,0.98)        RGB4{N0f8}(1.0,1.0,1.0)\n",
       " RGB4{N0f8}(0.98,1.0,0.988)        RGB4{N0f8}(1.0,1.0,1.0)\n",
       " RGB4{N0f8}(0.969,1.0,0.992)       RGB4{N0f8}(1.0,1.0,1.0)\n",
       " RGB4{N0f8}(0.969,1.0,1.0)         RGB4{N0f8}(1.0,1.0,1.0)\n",
       " RGB4{N0f8}(0.98,1.0,1.0)       …  RGB4{N0f8}(1.0,1.0,1.0)\n",
       " RGB4{N0f8}(0.992,0.996,1.0)       RGB4{N0f8}(1.0,1.0,1.0)\n",
       " RGB4{N0f8}(0.996,0.992,1.0)       RGB4{N0f8}(1.0,1.0,1.0)\n",
       " RGB4{N0f8}(0.996,0.988,1.0)       RGB4{N0f8}(1.0,1.0,1.0)\n",
       " RGB4{N0f8}(1.0,0.984,1.0)         RGB4{N0f8}(1.0,1.0,1.0)\n",
       " RGB4{N0f8}(1.0,0.992,1.0)      …  RGB4{N0f8}(1.0,1.0,1.0)\n",
       " RGB4{N0f8}(1.0,0.996,1.0)         RGB4{N0f8}(1.0,1.0,1.0)\n",
       " RGB4{N0f8}(1.0,1.0,1.0)           RGB4{N0f8}(1.0,1.0,1.0)\n",
       " ⋮                              ⋱                         \n",
       " RGB4{N0f8}(0.992,1.0,0.988)       RGB4{N0f8}(1.0,1.0,1.0)\n",
       " RGB4{N0f8}(0.992,1.0,0.988)       RGB4{N0f8}(1.0,1.0,1.0)\n",
       " RGB4{N0f8}(0.992,1.0,0.996)    …  RGB4{N0f8}(1.0,1.0,1.0)\n",
       " RGB4{N0f8}(0.996,1.0,1.0)         RGB4{N0f8}(1.0,1.0,1.0)\n",
       " RGB4{N0f8}(0.996,0.996,0.996)     RGB4{N0f8}(1.0,1.0,1.0)\n",
       " RGB4{N0f8}(0.996,0.996,0.996)     RGB4{N0f8}(1.0,1.0,1.0)\n",
       " RGB4{N0f8}(1.0,0.992,0.996)       RGB4{N0f8}(1.0,1.0,1.0)\n",
       " RGB4{N0f8}(1.0,0.992,0.996)    …  RGB4{N0f8}(1.0,1.0,1.0)\n",
       " RGB4{N0f8}(1.0,1.0,1.0)           RGB4{N0f8}(1.0,1.0,1.0)\n",
       " RGB4{N0f8}(1.0,1.0,1.0)           RGB4{N0f8}(1.0,1.0,1.0)\n",
       " RGB4{N0f8}(1.0,1.0,1.0)           RGB4{N0f8}(1.0,1.0,1.0)\n",
       " RGB4{N0f8}(1.0,1.0,1.0)           RGB4{N0f8}(1.0,1.0,1.0)"
      ]
     },
     "execution_count": 13,
     "metadata": {},
     "output_type": "execute_result"
    }
   ],
   "source": [
    "apple = load(\"data/10_100.jpg\")"
   ]
  },
  {
   "cell_type": "code",
   "execution_count": 14,
   "metadata": {},
   "outputs": [
    {
     "data": {
      "image/png": "[encoded data removed]",
      "text/plain": [
       "100×100 Array{RGB4{N0f8},2}:\n",
       " RGB4{N0f8}(1.0,1.0,1.0)  RGB4{N0f8}(1.0,1.0,1.0)  …  RGB4{N0f8}(1.0,1.0,1.0)\n",
       " RGB4{N0f8}(1.0,1.0,1.0)  RGB4{N0f8}(1.0,1.0,1.0)     RGB4{N0f8}(1.0,1.0,1.0)\n",
       " RGB4{N0f8}(1.0,1.0,1.0)  RGB4{N0f8}(1.0,1.0,1.0)     RGB4{N0f8}(1.0,1.0,1.0)\n",
       " RGB4{N0f8}(1.0,1.0,1.0)  RGB4{N0f8}(1.0,1.0,1.0)     RGB4{N0f8}(1.0,1.0,1.0)\n",
       " RGB4{N0f8}(1.0,1.0,1.0)  RGB4{N0f8}(1.0,1.0,1.0)     RGB4{N0f8}(1.0,1.0,1.0)\n",
       " RGB4{N0f8}(1.0,1.0,1.0)  RGB4{N0f8}(1.0,1.0,1.0)  …  RGB4{N0f8}(1.0,1.0,1.0)\n",
       " RGB4{N0f8}(1.0,1.0,1.0)  RGB4{N0f8}(1.0,1.0,1.0)     RGB4{N0f8}(1.0,1.0,1.0)\n",
       " RGB4{N0f8}(1.0,1.0,1.0)  RGB4{N0f8}(1.0,1.0,1.0)     RGB4{N0f8}(1.0,1.0,1.0)\n",
       " RGB4{N0f8}(1.0,1.0,1.0)  RGB4{N0f8}(1.0,1.0,1.0)     RGB4{N0f8}(1.0,1.0,1.0)\n",
       " RGB4{N0f8}(1.0,1.0,1.0)  RGB4{N0f8}(1.0,1.0,1.0)     RGB4{N0f8}(1.0,1.0,1.0)\n",
       " RGB4{N0f8}(1.0,1.0,1.0)  RGB4{N0f8}(1.0,1.0,1.0)  …  RGB4{N0f8}(1.0,1.0,1.0)\n",
       " RGB4{N0f8}(1.0,1.0,1.0)  RGB4{N0f8}(1.0,1.0,1.0)     RGB4{N0f8}(1.0,1.0,1.0)\n",
       " RGB4{N0f8}(1.0,1.0,1.0)  RGB4{N0f8}(1.0,1.0,1.0)     RGB4{N0f8}(1.0,1.0,1.0)\n",
       " ⋮                                                 ⋱                         \n",
       " RGB4{N0f8}(1.0,1.0,1.0)  RGB4{N0f8}(1.0,1.0,1.0)     RGB4{N0f8}(1.0,1.0,1.0)\n",
       " RGB4{N0f8}(1.0,1.0,1.0)  RGB4{N0f8}(1.0,1.0,1.0)     RGB4{N0f8}(1.0,1.0,1.0)\n",
       " RGB4{N0f8}(1.0,1.0,1.0)  RGB4{N0f8}(1.0,1.0,1.0)  …  RGB4{N0f8}(1.0,1.0,1.0)\n",
       " RGB4{N0f8}(1.0,1.0,1.0)  RGB4{N0f8}(1.0,1.0,1.0)     RGB4{N0f8}(1.0,1.0,1.0)\n",
       " RGB4{N0f8}(1.0,1.0,1.0)  RGB4{N0f8}(1.0,1.0,1.0)     RGB4{N0f8}(1.0,1.0,1.0)\n",
       " RGB4{N0f8}(1.0,1.0,1.0)  RGB4{N0f8}(1.0,1.0,1.0)     RGB4{N0f8}(1.0,1.0,1.0)\n",
       " RGB4{N0f8}(1.0,1.0,1.0)  RGB4{N0f8}(1.0,1.0,1.0)     RGB4{N0f8}(1.0,1.0,1.0)\n",
       " RGB4{N0f8}(1.0,1.0,1.0)  RGB4{N0f8}(1.0,1.0,1.0)  …  RGB4{N0f8}(1.0,1.0,1.0)\n",
       " RGB4{N0f8}(1.0,1.0,1.0)  RGB4{N0f8}(1.0,1.0,1.0)     RGB4{N0f8}(1.0,1.0,1.0)\n",
       " RGB4{N0f8}(1.0,1.0,1.0)  RGB4{N0f8}(1.0,1.0,1.0)     RGB4{N0f8}(1.0,1.0,1.0)\n",
       " RGB4{N0f8}(1.0,1.0,1.0)  RGB4{N0f8}(1.0,1.0,1.0)     RGB4{N0f8}(1.0,1.0,1.0)\n",
       " RGB4{N0f8}(1.0,1.0,1.0)  RGB4{N0f8}(1.0,1.0,1.0)     RGB4{N0f8}(1.0,1.0,1.0)"
      ]
     },
     "execution_count": 14,
     "metadata": {},
     "output_type": "execute_result"
    }
   ],
   "source": [
    "banana = load(\"data/104_100.jpg\")"
   ]
  },
  {
   "cell_type": "markdown",
   "metadata": {},
   "source": [
    "We start our analysis by calculating the average amount of green in all the pixels within the image. (Note the use of dot-broadcast in the code below.)"
   ]
  },
  {
   "cell_type": "code",
   "execution_count": 15,
   "metadata": {},
   "outputs": [
    {
     "data": {
      "text/plain": [
       "\"Average green for apple = 0.33851803921568624; Average green for banana = 0.8808207843137253; \""
      ]
     },
     "execution_count": 15,
     "metadata": {},
     "output_type": "execute_result"
    }
   ],
   "source": [
    "apple_green_amt = mean(Float64.(green.(apple)))\n",
    "banana_green_amt = mean(Float64.(green.(banana)))\n",
    "\n",
    "\"Average green for apple = $apple_green_amt; \" *\n",
    "\"Average green for banana = $banana_green_amt; \""
   ]
  },
  {
   "cell_type": "markdown",
   "metadata": {},
   "source": [
    "A common function for performing this kind of **classification** is the sigmoid, and that we will now extend by adding two **parameters**, $w$ and $b$:\n",
    "\n",
    "$$\\sigma(x; w, b) := \\frac{1}{1 + \\exp(-wx + b)}$$\n",
    "\n",
    "$$ x = \\mathrm{data} $$\n",
    "\n",
    "\\begin{align}\n",
    "\\sigma(x;w,b) &\\approx 0 \\implies \\mathrm{apple} \\\\\n",
    "\\sigma(x;w,b) &\\approx 1 \\implies \\mathrm{banana}\n",
    "\\end{align}"
   ]
  },
  {
   "cell_type": "markdown",
   "metadata": {},
   "source": [
    "In our mathematical notation above, the `;` in the function differentiates between the **data** and the **parameters**. `x` is the data and is determined from the image. The parameters, `w` and `b`, are numbers which we choose to make our function match the results it should be modeling.\n",
    "\n",
    "Note that in the code below, we don't distinguish between data and parameters - both are just inputs to our function, σ!"
   ]
  },
  {
   "cell_type": "code",
   "execution_count": 16,
   "metadata": {},
   "outputs": [
    {
     "data": {
      "text/plain": [
       "σ (generic function with 1 method)"
      ]
     },
     "execution_count": 16,
     "metadata": {},
     "output_type": "execute_result"
    }
   ],
   "source": [
    "σ(x, w, b) = 1 / (1 + exp(-w * x + b))"
   ]
  },
  {
   "cell_type": "markdown",
   "metadata": {},
   "source": [
    "What we want is that when we give σ as input the average green for the apple, roughly `x = 0.3385`, it should return as output something close to 0, meaning \"apple\". And when we give σ the input `x = 0.8808`, it should output something close to 1, meaning \"banana\".\n",
    "\n",
    "By changing the parameters of the function, we can change the shape of the function, and hence make it represent, or **fit**, the data better!"
   ]
  },
  {
   "cell_type": "markdown",
   "metadata": {},
   "source": [
    "## Data fitting by varying parameters"
   ]
  },
  {
   "cell_type": "markdown",
   "metadata": {},
   "source": [
    "We can understand how our choice of `w` and `b` affects our model by seeing how our values for `w` and `b` change the plot of the $\\sigma$ function.\n",
    "\n",
    "To do so, we will use the `Interact.jl` Julia package, which provides \"widgets\" for controlling parameters interactively via sliders:"
   ]
  },
  {
   "cell_type": "code",
   "execution_count": 17,
   "metadata": {},
   "outputs": [],
   "source": [
    "using Plots; gr()   # GR works better for interactive manipulations\n",
    "using Interact      # package for interactive manipulation"
   ]
  },
  {
   "cell_type": "markdown",
   "metadata": {},
   "source": [
    "Run the code in the next cell. You should see two \"sliders\" appear, one for `w` and one for `b`.\n",
    "\n",
    "**Game**: \n",
    "The game is to move both of those sliders around until the blue curve, labeled \"model\", which is the graph of the `\\sigma` function, passes through *both* of the data points at the same time."
   ]
  },
  {
   "cell_type": "code",
   "execution_count": 18,
   "metadata": {},
   "outputs": [
    {
     "data": {
      "text/html": [],
      "text/plain": [
       "Interact.Options{:SelectionSlider,Float64}(7: \"input-3\" = 10.0 Float64 , \"w\", 10.0, \"10.0\", 2001, Interact.OptionDict(DataStructures.OrderedDict(\"-10.0\"=>-10.0,\"-9.99\"=>-9.99,\"-9.98\"=>-9.98,\"-9.97\"=>-9.97,\"-9.96\"=>-9.96,\"-9.95\"=>-9.95,\"-9.94\"=>-9.94,\"-9.93\"=>-9.93,\"-9.92\"=>-9.92,\"-9.91\"=>-9.91…), Dict(24.1=>\"24.1\",-6.32=>\"-6.32\",9.84=>\"9.84\",-2.43=>\"-2.43\",27.55=>\"27.55\",23.28=>\"23.28\",-3.89=>\"-3.89\",-4.49=>\"-4.49\",16.81=>\"16.81\",15.21=>\"15.21\"…)), Any[], Any[], true, \"horizontal\", true)"
      ]
     },
     "metadata": {},
     "output_type": "display_data"
    },
    {
     "data": {
      "text/html": [],
      "text/plain": [
       "Interact.Options{:SelectionSlider,Float64}(9: \"input-4\" = 10.0 Float64 , \"b\", 10.0, \"10.0\", 101, Interact.OptionDict(DataStructures.OrderedDict(\"0.0\"=>0.0,\"0.1\"=>0.1,\"0.2\"=>0.2,\"0.3\"=>0.3,\"0.4\"=>0.4,\"0.5\"=>0.5,\"0.6\"=>0.6,\"0.7\"=>0.7,\"0.8\"=>0.8,\"0.9\"=>0.9…), Dict(1.2=>\"1.2\",15.6=>\"15.6\",10.7=>\"10.7\",13.2=>\"13.2\",11.0=>\"11.0\",7.4=>\"7.4\",0.2=>\"0.2\",12.4=>\"12.4\",16.7=>\"16.7\",11.6=>\"11.6\"…)), Any[], Any[], true, \"horizontal\", true)"
      ]
     },
     "metadata": {},
     "output_type": "display_data"
    },
    {
     "data": {
      "image/svg+xml": [
       "<?xml version=\"1.0\" encoding=\"utf-8\"?>\n",
       "<svg xmlns=\"http://www.w3.org/2000/svg\" xmlns:xlink=\"http://www.w3.org/1999/xlink\" width=\"600\" height=\"400\" viewBox=\"0 0 600 400\">\n",
       "<defs>\n",
       "  <clipPath id=\"clip3800\">\n",
       "    <rect x=\"0\" y=\"0\" width=\"600\" height=\"400\"/>\n",
       "  </clipPath>\n",
       "</defs>\n",
       "<polygon clip-path=\"url(#clip3800)\" points=\"\n",
       "0,400 600,400 600,0 0,0 \n",
       "  \" fill=\"#ffffff\" fill-opacity=\"1\"/>\n",
       "<defs>\n",
       "  <clipPath id=\"clip3801\">\n",
       "    <rect x=\"120\" y=\"0\" width=\"421\" height=\"400\"/>\n",
       "  </clipPath>\n",
       "</defs>\n",
       "<polygon clip-path=\"url(#clip3800)\" points=\"\n",
       "39.1651,375.869 580.315,375.869 580.315,11.811 39.1651,11.811 \n",
       "  \" fill=\"#ffffff\" fill-opacity=\"1\"/>\n",
       "<defs>\n",
       "  <clipPath id=\"clip3802\">\n",
       "    <rect x=\"39\" y=\"11\" width=\"542\" height=\"365\"/>\n",
       "  </clipPath>\n",
       "</defs>\n",
       "<polyline clip-path=\"url(#clip3802)\" style=\"stroke:#000000; stroke-width:0.5; stroke-opacity:0.1; fill:none\" points=\"\n",
       "  39.1651,375.869 39.1651,11.811 \n",
       "  \"/>\n",
       "<polyline clip-path=\"url(#clip3802)\" style=\"stroke:#000000; stroke-width:0.5; stroke-opacity:0.1; fill:none\" points=\"\n",
       "  147.395,375.869 147.395,11.811 \n",
       "  \"/>\n",
       "<polyline clip-path=\"url(#clip3802)\" style=\"stroke:#000000; stroke-width:0.5; stroke-opacity:0.1; fill:none\" points=\"\n",
       "  255.625,375.869 255.625,11.811 \n",
       "  \"/>\n",
       "<polyline clip-path=\"url(#clip3802)\" style=\"stroke:#000000; stroke-width:0.5; stroke-opacity:0.1; fill:none\" points=\"\n",
       "  363.855,375.869 363.855,11.811 \n",
       "  \"/>\n",
       "<polyline clip-path=\"url(#clip3802)\" style=\"stroke:#000000; stroke-width:0.5; stroke-opacity:0.1; fill:none\" points=\"\n",
       "  472.085,375.869 472.085,11.811 \n",
       "  \"/>\n",
       "<polyline clip-path=\"url(#clip3802)\" style=\"stroke:#000000; stroke-width:0.5; stroke-opacity:0.1; fill:none\" points=\"\n",
       "  580.315,375.869 580.315,11.811 \n",
       "  \"/>\n",
       "<polyline clip-path=\"url(#clip3802)\" style=\"stroke:#000000; stroke-width:0.5; stroke-opacity:0.1; fill:none\" points=\"\n",
       "  39.1651,345.531 580.315,345.531 \n",
       "  \"/>\n",
       "<polyline clip-path=\"url(#clip3802)\" style=\"stroke:#000000; stroke-width:0.5; stroke-opacity:0.1; fill:none\" points=\"\n",
       "  39.1651,269.685 580.315,269.685 \n",
       "  \"/>\n",
       "<polyline clip-path=\"url(#clip3802)\" style=\"stroke:#000000; stroke-width:0.5; stroke-opacity:0.1; fill:none\" points=\"\n",
       "  39.1651,193.84 580.315,193.84 \n",
       "  \"/>\n",
       "<polyline clip-path=\"url(#clip3802)\" style=\"stroke:#000000; stroke-width:0.5; stroke-opacity:0.1; fill:none\" points=\"\n",
       "  39.1651,117.995 580.315,117.995 \n",
       "  \"/>\n",
       "<polyline clip-path=\"url(#clip3802)\" style=\"stroke:#000000; stroke-width:0.5; stroke-opacity:0.1; fill:none\" points=\"\n",
       "  39.1651,42.1492 580.315,42.1492 \n",
       "  \"/>\n",
       "<polyline clip-path=\"url(#clip3800)\" style=\"stroke:#000000; stroke-width:1; stroke-opacity:1; fill:none\" points=\"\n",
       "  39.1651,375.869 580.315,375.869 \n",
       "  \"/>\n",
       "<polyline clip-path=\"url(#clip3800)\" style=\"stroke:#000000; stroke-width:1; stroke-opacity:1; fill:none\" points=\"\n",
       "  39.1651,375.869 39.1651,11.811 \n",
       "  \"/>\n",
       "<polyline clip-path=\"url(#clip3800)\" style=\"stroke:#000000; stroke-width:1; stroke-opacity:1; fill:none\" points=\"\n",
       "  39.1651,375.869 39.1651,370.408 \n",
       "  \"/>\n",
       "<polyline clip-path=\"url(#clip3800)\" style=\"stroke:#000000; stroke-width:1; stroke-opacity:1; fill:none\" points=\"\n",
       "  147.395,375.869 147.395,370.408 \n",
       "  \"/>\n",
       "<polyline clip-path=\"url(#clip3800)\" style=\"stroke:#000000; stroke-width:1; stroke-opacity:1; fill:none\" points=\"\n",
       "  255.625,375.869 255.625,370.408 \n",
       "  \"/>\n",
       "<polyline clip-path=\"url(#clip3800)\" style=\"stroke:#000000; stroke-width:1; stroke-opacity:1; fill:none\" points=\"\n",
       "  363.855,375.869 363.855,370.408 \n",
       "  \"/>\n",
       "<polyline clip-path=\"url(#clip3800)\" style=\"stroke:#000000; stroke-width:1; stroke-opacity:1; fill:none\" points=\"\n",
       "  472.085,375.869 472.085,370.408 \n",
       "  \"/>\n",
       "<polyline clip-path=\"url(#clip3800)\" style=\"stroke:#000000; stroke-width:1; stroke-opacity:1; fill:none\" points=\"\n",
       "  580.315,375.869 580.315,370.408 \n",
       "  \"/>\n",
       "<polyline clip-path=\"url(#clip3800)\" style=\"stroke:#000000; stroke-width:1; stroke-opacity:1; fill:none\" points=\"\n",
       "  39.1651,345.531 47.2823,345.531 \n",
       "  \"/>\n",
       "<polyline clip-path=\"url(#clip3800)\" style=\"stroke:#000000; stroke-width:1; stroke-opacity:1; fill:none\" points=\"\n",
       "  39.1651,269.685 47.2823,269.685 \n",
       "  \"/>\n",
       "<polyline clip-path=\"url(#clip3800)\" style=\"stroke:#000000; stroke-width:1; stroke-opacity:1; fill:none\" points=\"\n",
       "  39.1651,193.84 47.2823,193.84 \n",
       "  \"/>\n",
       "<polyline clip-path=\"url(#clip3800)\" style=\"stroke:#000000; stroke-width:1; stroke-opacity:1; fill:none\" points=\"\n",
       "  39.1651,117.995 47.2823,117.995 \n",
       "  \"/>\n",
       "<polyline clip-path=\"url(#clip3800)\" style=\"stroke:#000000; stroke-width:1; stroke-opacity:1; fill:none\" points=\"\n",
       "  39.1651,42.1492 47.2823,42.1492 \n",
       "  \"/>\n",
       "<g clip-path=\"url(#clip3800)\">\n",
       "<text style=\"fill:#000000; fill-opacity:1; font-family:Arial,Helvetica Neue,Helvetica,sans-serif; font-size:12; text-anchor:middle;\" transform=\"rotate(0, 39.1651, 389.669)\" x=\"39.1651\" y=\"389.669\">0.0</text>\n",
       "</g>\n",
       "<g clip-path=\"url(#clip3800)\">\n",
       "<text style=\"fill:#000000; fill-opacity:1; font-family:Arial,Helvetica Neue,Helvetica,sans-serif; font-size:12; text-anchor:middle;\" transform=\"rotate(0, 147.395, 389.669)\" x=\"147.395\" y=\"389.669\">0.2</text>\n",
       "</g>\n",
       "<g clip-path=\"url(#clip3800)\">\n",
       "<text style=\"fill:#000000; fill-opacity:1; font-family:Arial,Helvetica Neue,Helvetica,sans-serif; font-size:12; text-anchor:middle;\" transform=\"rotate(0, 255.625, 389.669)\" x=\"255.625\" y=\"389.669\">0.4</text>\n",
       "</g>\n",
       "<g clip-path=\"url(#clip3800)\">\n",
       "<text style=\"fill:#000000; fill-opacity:1; font-family:Arial,Helvetica Neue,Helvetica,sans-serif; font-size:12; text-anchor:middle;\" transform=\"rotate(0, 363.855, 389.669)\" x=\"363.855\" y=\"389.669\">0.6</text>\n",
       "</g>\n",
       "<g clip-path=\"url(#clip3800)\">\n",
       "<text style=\"fill:#000000; fill-opacity:1; font-family:Arial,Helvetica Neue,Helvetica,sans-serif; font-size:12; text-anchor:middle;\" transform=\"rotate(0, 472.085, 389.669)\" x=\"472.085\" y=\"389.669\">0.8</text>\n",
       "</g>\n",
       "<g clip-path=\"url(#clip3800)\">\n",
       "<text style=\"fill:#000000; fill-opacity:1; font-family:Arial,Helvetica Neue,Helvetica,sans-serif; font-size:12; text-anchor:middle;\" transform=\"rotate(0, 580.315, 389.669)\" x=\"580.315\" y=\"389.669\">1.0</text>\n",
       "</g>\n",
       "<g clip-path=\"url(#clip3800)\">\n",
       "<text style=\"fill:#000000; fill-opacity:1; font-family:Arial,Helvetica Neue,Helvetica,sans-serif; font-size:12; text-anchor:end;\" transform=\"rotate(0, 33.1651, 350.031)\" x=\"33.1651\" y=\"350.031\">0.00</text>\n",
       "</g>\n",
       "<g clip-path=\"url(#clip3800)\">\n",
       "<text style=\"fill:#000000; fill-opacity:1; font-family:Arial,Helvetica Neue,Helvetica,sans-serif; font-size:12; text-anchor:end;\" transform=\"rotate(0, 33.1651, 274.185)\" x=\"33.1651\" y=\"274.185\">0.25</text>\n",
       "</g>\n",
       "<g clip-path=\"url(#clip3800)\">\n",
       "<text style=\"fill:#000000; fill-opacity:1; font-family:Arial,Helvetica Neue,Helvetica,sans-serif; font-size:12; text-anchor:end;\" transform=\"rotate(0, 33.1651, 198.34)\" x=\"33.1651\" y=\"198.34\">0.50</text>\n",
       "</g>\n",
       "<g clip-path=\"url(#clip3800)\">\n",
       "<text style=\"fill:#000000; fill-opacity:1; font-family:Arial,Helvetica Neue,Helvetica,sans-serif; font-size:12; text-anchor:end;\" transform=\"rotate(0, 33.1651, 122.495)\" x=\"33.1651\" y=\"122.495\">0.75</text>\n",
       "</g>\n",
       "<g clip-path=\"url(#clip3800)\">\n",
       "<text style=\"fill:#000000; fill-opacity:1; font-family:Arial,Helvetica Neue,Helvetica,sans-serif; font-size:12; text-anchor:end;\" transform=\"rotate(0, 33.1651, 46.6492)\" x=\"33.1651\" y=\"46.6492\">1.00</text>\n",
       "</g>\n",
       "<polyline clip-path=\"url(#clip3802)\" style=\"stroke:#009af9; stroke-width:3; stroke-opacity:1; fill:none\" points=\"\n",
       "  -2613.74,345.531 -2125.08,345.531 -1831.42,345.531 -1583.14,345.531 -1313.43,345.531 -1064.78,345.531 -798.205,345.531 -489.351,345.531 -214.877,345.53 25.8113,345.52 \n",
       "  157.019,345.409 288.226,344.163 321.223,343.024 354.22,340.95 387.217,337.209 420.214,330.563 436.712,325.579 453.211,319.087 469.709,310.742 486.207,300.194 \n",
       "  502.706,287.144 519.204,271.416 535.703,253.051 552.201,232.38 570.442,207.639 588.683,182.135 606.924,157.279 625.165,134.346 643.407,114.233 661.648,97.3598 \n",
       "  679.889,83.7265 698.13,73.0406 716.371,64.8629 734.612,58.7183 752.853,54.1649 771.094,50.8249 807.577,46.6331 844.059,44.4508 913.483,42.7908 982.906,42.3273 \n",
       "  1052.33,42.1986 1121.75,42.1629 1410.49,42.1492 1653.55,42.1492 1950.29,42.1492 2229.24,42.1492 2676.14,42.1492 \n",
       "  \"/>\n",
       "<circle clip-path=\"url(#clip3802)\" style=\"fill:#000000; stroke:none; fill-opacity:1\" cx=\"222.354\" cy=\"345.531\" r=\"5\"/>\n",
       "<circle clip-path=\"url(#clip3802)\" style=\"fill:#e26f46; stroke:none; fill-opacity:1\" cx=\"222.354\" cy=\"345.531\" r=\"4\"/>\n",
       "<circle clip-path=\"url(#clip3802)\" style=\"fill:#000000; stroke:none; fill-opacity:1\" cx=\"515.821\" cy=\"42.1492\" r=\"5\"/>\n",
       "<circle clip-path=\"url(#clip3802)\" style=\"fill:#3da44d; stroke:none; fill-opacity:1\" cx=\"515.821\" cy=\"42.1492\" r=\"4\"/>\n",
       "<polygon clip-path=\"url(#clip3800)\" points=\"\n",
       "57.1651,93.171 157.309,93.171 157.309,32.691 57.1651,32.691 \n",
       "  \" fill=\"#ffffff\" fill-opacity=\"1\"/>\n",
       "<polyline clip-path=\"url(#clip3800)\" style=\"stroke:#000000; stroke-width:1; stroke-opacity:1; fill:none\" points=\"\n",
       "  57.1651,93.171 157.309,93.171 157.309,32.691 57.1651,32.691 57.1651,93.171 \n",
       "  \"/>\n",
       "<polyline clip-path=\"url(#clip3800)\" style=\"stroke:#009af9; stroke-width:3; stroke-opacity:1; fill:none\" points=\"\n",
       "  63.1651,47.811 99.1651,47.811 \n",
       "  \"/>\n",
       "<g clip-path=\"url(#clip3800)\">\n",
       "<text style=\"fill:#000000; fill-opacity:1; font-family:Arial,Helvetica Neue,Helvetica,sans-serif; font-size:12; text-anchor:start;\" transform=\"rotate(0, 105.165, 52.311)\" x=\"105.165\" y=\"52.311\">model</text>\n",
       "</g>\n",
       "<circle clip-path=\"url(#clip3800)\" style=\"fill:#000000; stroke:none; fill-opacity:1\" cx=\"84.1651\" cy=\"62.931\" r=\"6\"/>\n",
       "<circle clip-path=\"url(#clip3800)\" style=\"fill:#e26f46; stroke:none; fill-opacity:1\" cx=\"84.1651\" cy=\"62.931\" r=\"5\"/>\n",
       "<g clip-path=\"url(#clip3800)\">\n",
       "<text style=\"fill:#000000; fill-opacity:1; font-family:Arial,Helvetica Neue,Helvetica,sans-serif; font-size:12; text-anchor:start;\" transform=\"rotate(0, 105.165, 67.431)\" x=\"105.165\" y=\"67.431\">apple</text>\n",
       "</g>\n",
       "<circle clip-path=\"url(#clip3800)\" style=\"fill:#000000; stroke:none; fill-opacity:1\" cx=\"84.1651\" cy=\"78.051\" r=\"6\"/>\n",
       "<circle clip-path=\"url(#clip3800)\" style=\"fill:#3da44d; stroke:none; fill-opacity:1\" cx=\"84.1651\" cy=\"78.051\" r=\"5\"/>\n",
       "<g clip-path=\"url(#clip3800)\">\n",
       "<text style=\"fill:#000000; fill-opacity:1; font-family:Arial,Helvetica Neue,Helvetica,sans-serif; font-size:12; text-anchor:start;\" transform=\"rotate(0, 105.165, 82.551)\" x=\"105.165\" y=\"82.551\">banana</text>\n",
       "</g>\n",
       "</svg>\n"
      ]
     },
     "execution_count": 18,
     "metadata": {
      "comm_id": "d2dfc839-0d16-422a-930b-08431d375120",
      "reactive": true
     },
     "output_type": "execute_result"
    }
   ],
   "source": [
    "@manipulate for w in -10:0.01:30, b in 0:0.1:20\n",
    "    \n",
    "    plot(x -> σ(x, w, b), xlim=(-0,1), ylim=(-0.1,1.1), label=\"model\", legend=:topleft, lw=3)\n",
    "    \n",
    "    scatter!([apple_green_amt],  [0.0], label=\"apple\", ms=5)   # marker size = 5\n",
    "    scatter!([banana_green_amt], [1.0], label=\"banana\", ms=5)\n",
    "    \n",
    "end"
   ]
  },
  {
   "cell_type": "markdown",
   "metadata": {},
   "source": [
    "Notice that the two parameters do two very different things. The **weight**, `w`, determines *how fast* the transition between 0 and 1 occurs. It encodes how trustworthy we think our data  actually is, and in what range we should be putting points between 0 and 1 and thus calling them \"unsure\". The **bias**, `b`, encodes *where* on the $x$-axis the switch should take place. It can be seen as shifting the function left-right. We'll come to understand these *parameters* more in notebook 6.\n",
    "\n",
    "Here are some parameter choices that work well:"
   ]
  },
  {
   "cell_type": "code",
   "execution_count": 8,
   "metadata": {},
   "outputs": [
    {
     "data": {
      "image/svg+xml": [
       "<?xml version=\"1.0\" encoding=\"utf-8\"?>\n",
       "<svg xmlns=\"http://www.w3.org/2000/svg\" xmlns:xlink=\"http://www.w3.org/1999/xlink\" width=\"600\" height=\"400\" viewBox=\"0 0 600 400\">\n",
       "<defs>\n",
       "  <clipPath id=\"clip3400\">\n",
       "    <rect x=\"0\" y=\"0\" width=\"600\" height=\"400\"/>\n",
       "  </clipPath>\n",
       "</defs>\n",
       "<polygon clip-path=\"url(#clip3400)\" points=\"\n",
       "0,400 600,400 600,0 0,0 \n",
       "  \" fill=\"#ffffff\" fill-opacity=\"1\"/>\n",
       "<defs>\n",
       "  <clipPath id=\"clip3401\">\n",
       "    <rect x=\"120\" y=\"0\" width=\"421\" height=\"400\"/>\n",
       "  </clipPath>\n",
       "</defs>\n",
       "<polygon clip-path=\"url(#clip3400)\" points=\"\n",
       "39.1651,375.869 580.315,375.869 580.315,11.811 39.1651,11.811 \n",
       "  \" fill=\"#ffffff\" fill-opacity=\"1\"/>\n",
       "<defs>\n",
       "  <clipPath id=\"clip3402\">\n",
       "    <rect x=\"39\" y=\"11\" width=\"542\" height=\"365\"/>\n",
       "  </clipPath>\n",
       "</defs>\n",
       "<polyline clip-path=\"url(#clip3402)\" style=\"stroke:#000000; stroke-width:0.5; stroke-opacity:0.1; fill:none\" points=\"\n",
       "  39.1651,375.869 39.1651,11.811 \n",
       "  \"/>\n",
       "<polyline clip-path=\"url(#clip3402)\" style=\"stroke:#000000; stroke-width:0.5; stroke-opacity:0.1; fill:none\" points=\"\n",
       "  147.395,375.869 147.395,11.811 \n",
       "  \"/>\n",
       "<polyline clip-path=\"url(#clip3402)\" style=\"stroke:#000000; stroke-width:0.5; stroke-opacity:0.1; fill:none\" points=\"\n",
       "  255.625,375.869 255.625,11.811 \n",
       "  \"/>\n",
       "<polyline clip-path=\"url(#clip3402)\" style=\"stroke:#000000; stroke-width:0.5; stroke-opacity:0.1; fill:none\" points=\"\n",
       "  363.855,375.869 363.855,11.811 \n",
       "  \"/>\n",
       "<polyline clip-path=\"url(#clip3402)\" style=\"stroke:#000000; stroke-width:0.5; stroke-opacity:0.1; fill:none\" points=\"\n",
       "  472.085,375.869 472.085,11.811 \n",
       "  \"/>\n",
       "<polyline clip-path=\"url(#clip3402)\" style=\"stroke:#000000; stroke-width:0.5; stroke-opacity:0.1; fill:none\" points=\"\n",
       "  580.315,375.869 580.315,11.811 \n",
       "  \"/>\n",
       "<polyline clip-path=\"url(#clip3402)\" style=\"stroke:#000000; stroke-width:0.5; stroke-opacity:0.1; fill:none\" points=\"\n",
       "  39.1651,345.531 580.315,345.531 \n",
       "  \"/>\n",
       "<polyline clip-path=\"url(#clip3402)\" style=\"stroke:#000000; stroke-width:0.5; stroke-opacity:0.1; fill:none\" points=\"\n",
       "  39.1651,269.685 580.315,269.685 \n",
       "  \"/>\n",
       "<polyline clip-path=\"url(#clip3402)\" style=\"stroke:#000000; stroke-width:0.5; stroke-opacity:0.1; fill:none\" points=\"\n",
       "  39.1651,193.84 580.315,193.84 \n",
       "  \"/>\n",
       "<polyline clip-path=\"url(#clip3402)\" style=\"stroke:#000000; stroke-width:0.5; stroke-opacity:0.1; fill:none\" points=\"\n",
       "  39.1651,117.995 580.315,117.995 \n",
       "  \"/>\n",
       "<polyline clip-path=\"url(#clip3402)\" style=\"stroke:#000000; stroke-width:0.5; stroke-opacity:0.1; fill:none\" points=\"\n",
       "  39.1651,42.1492 580.315,42.1492 \n",
       "  \"/>\n",
       "<polyline clip-path=\"url(#clip3400)\" style=\"stroke:#000000; stroke-width:1; stroke-opacity:1; fill:none\" points=\"\n",
       "  39.1651,375.869 580.315,375.869 \n",
       "  \"/>\n",
       "<polyline clip-path=\"url(#clip3400)\" style=\"stroke:#000000; stroke-width:1; stroke-opacity:1; fill:none\" points=\"\n",
       "  39.1651,375.869 39.1651,11.811 \n",
       "  \"/>\n",
       "<polyline clip-path=\"url(#clip3400)\" style=\"stroke:#000000; stroke-width:1; stroke-opacity:1; fill:none\" points=\"\n",
       "  39.1651,375.869 39.1651,370.408 \n",
       "  \"/>\n",
       "<polyline clip-path=\"url(#clip3400)\" style=\"stroke:#000000; stroke-width:1; stroke-opacity:1; fill:none\" points=\"\n",
       "  147.395,375.869 147.395,370.408 \n",
       "  \"/>\n",
       "<polyline clip-path=\"url(#clip3400)\" style=\"stroke:#000000; stroke-width:1; stroke-opacity:1; fill:none\" points=\"\n",
       "  255.625,375.869 255.625,370.408 \n",
       "  \"/>\n",
       "<polyline clip-path=\"url(#clip3400)\" style=\"stroke:#000000; stroke-width:1; stroke-opacity:1; fill:none\" points=\"\n",
       "  363.855,375.869 363.855,370.408 \n",
       "  \"/>\n",
       "<polyline clip-path=\"url(#clip3400)\" style=\"stroke:#000000; stroke-width:1; stroke-opacity:1; fill:none\" points=\"\n",
       "  472.085,375.869 472.085,370.408 \n",
       "  \"/>\n",
       "<polyline clip-path=\"url(#clip3400)\" style=\"stroke:#000000; stroke-width:1; stroke-opacity:1; fill:none\" points=\"\n",
       "  580.315,375.869 580.315,370.408 \n",
       "  \"/>\n",
       "<polyline clip-path=\"url(#clip3400)\" style=\"stroke:#000000; stroke-width:1; stroke-opacity:1; fill:none\" points=\"\n",
       "  39.1651,345.531 47.2823,345.531 \n",
       "  \"/>\n",
       "<polyline clip-path=\"url(#clip3400)\" style=\"stroke:#000000; stroke-width:1; stroke-opacity:1; fill:none\" points=\"\n",
       "  39.1651,269.685 47.2823,269.685 \n",
       "  \"/>\n",
       "<polyline clip-path=\"url(#clip3400)\" style=\"stroke:#000000; stroke-width:1; stroke-opacity:1; fill:none\" points=\"\n",
       "  39.1651,193.84 47.2823,193.84 \n",
       "  \"/>\n",
       "<polyline clip-path=\"url(#clip3400)\" style=\"stroke:#000000; stroke-width:1; stroke-opacity:1; fill:none\" points=\"\n",
       "  39.1651,117.995 47.2823,117.995 \n",
       "  \"/>\n",
       "<polyline clip-path=\"url(#clip3400)\" style=\"stroke:#000000; stroke-width:1; stroke-opacity:1; fill:none\" points=\"\n",
       "  39.1651,42.1492 47.2823,42.1492 \n",
       "  \"/>\n",
       "<g clip-path=\"url(#clip3400)\">\n",
       "<text style=\"fill:#000000; fill-opacity:1; font-family:Arial,Helvetica Neue,Helvetica,sans-serif; font-size:12; text-anchor:middle;\" transform=\"rotate(0, 39.1651, 389.669)\" x=\"39.1651\" y=\"389.669\">0.0</text>\n",
       "</g>\n",
       "<g clip-path=\"url(#clip3400)\">\n",
       "<text style=\"fill:#000000; fill-opacity:1; font-family:Arial,Helvetica Neue,Helvetica,sans-serif; font-size:12; text-anchor:middle;\" transform=\"rotate(0, 147.395, 389.669)\" x=\"147.395\" y=\"389.669\">0.2</text>\n",
       "</g>\n",
       "<g clip-path=\"url(#clip3400)\">\n",
       "<text style=\"fill:#000000; fill-opacity:1; font-family:Arial,Helvetica Neue,Helvetica,sans-serif; font-size:12; text-anchor:middle;\" transform=\"rotate(0, 255.625, 389.669)\" x=\"255.625\" y=\"389.669\">0.4</text>\n",
       "</g>\n",
       "<g clip-path=\"url(#clip3400)\">\n",
       "<text style=\"fill:#000000; fill-opacity:1; font-family:Arial,Helvetica Neue,Helvetica,sans-serif; font-size:12; text-anchor:middle;\" transform=\"rotate(0, 363.855, 389.669)\" x=\"363.855\" y=\"389.669\">0.6</text>\n",
       "</g>\n",
       "<g clip-path=\"url(#clip3400)\">\n",
       "<text style=\"fill:#000000; fill-opacity:1; font-family:Arial,Helvetica Neue,Helvetica,sans-serif; font-size:12; text-anchor:middle;\" transform=\"rotate(0, 472.085, 389.669)\" x=\"472.085\" y=\"389.669\">0.8</text>\n",
       "</g>\n",
       "<g clip-path=\"url(#clip3400)\">\n",
       "<text style=\"fill:#000000; fill-opacity:1; font-family:Arial,Helvetica Neue,Helvetica,sans-serif; font-size:12; text-anchor:middle;\" transform=\"rotate(0, 580.315, 389.669)\" x=\"580.315\" y=\"389.669\">1.0</text>\n",
       "</g>\n",
       "<g clip-path=\"url(#clip3400)\">\n",
       "<text style=\"fill:#000000; fill-opacity:1; font-family:Arial,Helvetica Neue,Helvetica,sans-serif; font-size:12; text-anchor:end;\" transform=\"rotate(0, 33.1651, 350.031)\" x=\"33.1651\" y=\"350.031\">0.00</text>\n",
       "</g>\n",
       "<g clip-path=\"url(#clip3400)\">\n",
       "<text style=\"fill:#000000; fill-opacity:1; font-family:Arial,Helvetica Neue,Helvetica,sans-serif; font-size:12; text-anchor:end;\" transform=\"rotate(0, 33.1651, 274.185)\" x=\"33.1651\" y=\"274.185\">0.25</text>\n",
       "</g>\n",
       "<g clip-path=\"url(#clip3400)\">\n",
       "<text style=\"fill:#000000; fill-opacity:1; font-family:Arial,Helvetica Neue,Helvetica,sans-serif; font-size:12; text-anchor:end;\" transform=\"rotate(0, 33.1651, 198.34)\" x=\"33.1651\" y=\"198.34\">0.50</text>\n",
       "</g>\n",
       "<g clip-path=\"url(#clip3400)\">\n",
       "<text style=\"fill:#000000; fill-opacity:1; font-family:Arial,Helvetica Neue,Helvetica,sans-serif; font-size:12; text-anchor:end;\" transform=\"rotate(0, 33.1651, 122.495)\" x=\"33.1651\" y=\"122.495\">0.75</text>\n",
       "</g>\n",
       "<g clip-path=\"url(#clip3400)\">\n",
       "<text style=\"fill:#000000; fill-opacity:1; font-family:Arial,Helvetica Neue,Helvetica,sans-serif; font-size:12; text-anchor:end;\" transform=\"rotate(0, 33.1651, 46.6492)\" x=\"33.1651\" y=\"46.6492\">1.00</text>\n",
       "</g>\n",
       "<polyline clip-path=\"url(#clip3402)\" style=\"stroke:#009af9; stroke-width:3; stroke-opacity:1; fill:none\" points=\"\n",
       "  -2613.74,345.531 -2125.08,345.531 -1831.42,345.531 -1583.14,345.531 -1313.43,345.531 -1064.78,345.531 -798.205,345.531 -489.351,345.531 -214.877,345.531 25.8113,345.531 \n",
       "  91.4151,345.53 157.019,345.517 189.821,345.467 222.623,345.234 239.024,344.886 255.424,344.136 271.825,342.518 288.226,339.065 296.476,336.078 304.725,331.774 \n",
       "  312.974,325.644 321.223,317.05 325.348,311.605 329.472,305.27 333.597,297.962 337.722,289.61 341.846,280.165 345.971,269.615 350.095,257.988 354.22,245.365 \n",
       "  362.469,217.721 370.718,188.349 378.968,159.383 387.217,132.845 391.341,120.952 395.466,110.12 399.591,100.391 403.715,91.7616 411.964,77.6144 420.214,67.1046 \n",
       "  428.463,59.5075 436.712,54.1237 444.961,50.3618 453.211,47.759 469.709,44.7471 486.207,43.3458 519.204,42.4015 552.201,42.2022 625.165,42.1508 698.13,42.1492 \n",
       "  771.094,42.1492 844.059,42.1492 982.906,42.1492 1121.75,42.1492 1410.49,42.1492 1653.55,42.1492 1950.29,42.1492 2229.24,42.1492 2676.14,42.1492 \n",
       "  \"/>\n",
       "<circle clip-path=\"url(#clip3402)\" style=\"fill:#000000; stroke:none; fill-opacity:1\" cx=\"222.354\" cy=\"345.531\" r=\"4\"/>\n",
       "<circle clip-path=\"url(#clip3402)\" style=\"fill:#e26f46; stroke:none; fill-opacity:1\" cx=\"222.354\" cy=\"345.531\" r=\"3\"/>\n",
       "<circle clip-path=\"url(#clip3402)\" style=\"fill:#000000; stroke:none; fill-opacity:1\" cx=\"515.821\" cy=\"42.1492\" r=\"4\"/>\n",
       "<circle clip-path=\"url(#clip3402)\" style=\"fill:#3da44d; stroke:none; fill-opacity:1\" cx=\"515.821\" cy=\"42.1492\" r=\"3\"/>\n",
       "<polygon clip-path=\"url(#clip3400)\" points=\"\n",
       "57.1651,93.171 157.309,93.171 157.309,32.691 57.1651,32.691 \n",
       "  \" fill=\"#ffffff\" fill-opacity=\"1\"/>\n",
       "<polyline clip-path=\"url(#clip3400)\" style=\"stroke:#000000; stroke-width:1; stroke-opacity:1; fill:none\" points=\"\n",
       "  57.1651,93.171 157.309,93.171 157.309,32.691 57.1651,32.691 57.1651,93.171 \n",
       "  \"/>\n",
       "<polyline clip-path=\"url(#clip3400)\" style=\"stroke:#009af9; stroke-width:3; stroke-opacity:1; fill:none\" points=\"\n",
       "  63.1651,47.811 99.1651,47.811 \n",
       "  \"/>\n",
       "<g clip-path=\"url(#clip3400)\">\n",
       "<text style=\"fill:#000000; fill-opacity:1; font-family:Arial,Helvetica Neue,Helvetica,sans-serif; font-size:12; text-anchor:start;\" transform=\"rotate(0, 105.165, 52.311)\" x=\"105.165\" y=\"52.311\">model</text>\n",
       "</g>\n",
       "<circle clip-path=\"url(#clip3400)\" style=\"fill:#000000; stroke:none; fill-opacity:1\" cx=\"84.1651\" cy=\"62.931\" r=\"6\"/>\n",
       "<circle clip-path=\"url(#clip3400)\" style=\"fill:#e26f46; stroke:none; fill-opacity:1\" cx=\"84.1651\" cy=\"62.931\" r=\"5\"/>\n",
       "<g clip-path=\"url(#clip3400)\">\n",
       "<text style=\"fill:#000000; fill-opacity:1; font-family:Arial,Helvetica Neue,Helvetica,sans-serif; font-size:12; text-anchor:start;\" transform=\"rotate(0, 105.165, 67.431)\" x=\"105.165\" y=\"67.431\">apple</text>\n",
       "</g>\n",
       "<circle clip-path=\"url(#clip3400)\" style=\"fill:#000000; stroke:none; fill-opacity:1\" cx=\"84.1651\" cy=\"78.051\" r=\"6\"/>\n",
       "<circle clip-path=\"url(#clip3400)\" style=\"fill:#3da44d; stroke:none; fill-opacity:1\" cx=\"84.1651\" cy=\"78.051\" r=\"5\"/>\n",
       "<g clip-path=\"url(#clip3400)\">\n",
       "<text style=\"fill:#000000; fill-opacity:1; font-family:Arial,Helvetica Neue,Helvetica,sans-serif; font-size:12; text-anchor:start;\" transform=\"rotate(0, 105.165, 82.551)\" x=\"105.165\" y=\"82.551\">banana</text>\n",
       "</g>\n",
       "</svg>\n"
      ]
     },
     "execution_count": 8,
     "metadata": {},
     "output_type": "execute_result"
    }
   ],
   "source": [
    "w = 25.58; b = 15.6\n",
    "\n",
    "plot(x -> σ(x, w, b), xlim=(0,1), ylim=(-0.1,1.1), label=\"model\", legend=:topleft, lw=3)\n",
    "\n",
    "scatter!([apple_green_amt], [0.0], label=\"apple\")\n",
    "scatter!([banana_green_amt],[1.0], label=\"banana\")"
   ]
  },
  {
   "cell_type": "markdown",
   "metadata": {},
   "source": [
    "(Note that in this problem there are many combinations of `w` and `b` that fit the data well.)"
   ]
  },
  {
   "cell_type": "markdown",
   "metadata": {},
   "source": [
    "Once we have a model, we have a computational representation for how to choose between \"apple\" and \"banana\". So let's pull in some new images and see what our model says about them!"
   ]
  },
  {
   "cell_type": "code",
   "execution_count": 9,
   "metadata": {},
   "outputs": [
    {
     "data": {
      "image/png": "[encoded data removed]",
      "text/plain": [
       "100×100 Array{RGB4{N0f8},2}:\n",
       " RGB4{N0f8}(0.984,1.0,1.0)    …  RGB4{N0f8}(1.0,1.0,1.0)\n",
       " RGB4{N0f8}(0.992,0.996,1.0)     RGB4{N0f8}(1.0,1.0,1.0)\n",
       " RGB4{N0f8}(1.0,0.992,0.988)     RGB4{N0f8}(1.0,1.0,1.0)\n",
       " RGB4{N0f8}(1.0,0.988,0.973)     RGB4{N0f8}(1.0,1.0,1.0)\n",
       " RGB4{N0f8}(1.0,0.992,0.965)     RGB4{N0f8}(1.0,1.0,1.0)\n",
       " RGB4{N0f8}(1.0,1.0,0.969)    …  RGB4{N0f8}(1.0,1.0,1.0)\n",
       " RGB4{N0f8}(0.984,1.0,0.976)     RGB4{N0f8}(1.0,1.0,1.0)\n",
       " RGB4{N0f8}(0.969,1.0,0.984)     RGB4{N0f8}(1.0,1.0,1.0)\n",
       " RGB4{N0f8}(0.965,1.0,0.992)     RGB4{N0f8}(1.0,1.0,1.0)\n",
       " RGB4{N0f8}(0.973,1.0,1.0)       RGB4{N0f8}(1.0,1.0,1.0)\n",
       " RGB4{N0f8}(0.984,1.0,1.0)    …  RGB4{N0f8}(1.0,1.0,1.0)\n",
       " RGB4{N0f8}(0.992,0.996,1.0)     RGB4{N0f8}(1.0,1.0,1.0)\n",
       " RGB4{N0f8}(0.996,0.996,1.0)     RGB4{N0f8}(1.0,1.0,1.0)\n",
       " ⋮                            ⋱                         \n",
       " RGB4{N0f8}(1.0,1.0,1.0)         RGB4{N0f8}(1.0,1.0,1.0)\n",
       " RGB4{N0f8}(1.0,1.0,1.0)         RGB4{N0f8}(1.0,1.0,1.0)\n",
       " RGB4{N0f8}(0.996,1.0,1.0)    …  RGB4{N0f8}(1.0,1.0,1.0)\n",
       " RGB4{N0f8}(0.996,1.0,1.0)       RGB4{N0f8}(1.0,1.0,1.0)\n",
       " RGB4{N0f8}(0.996,1.0,1.0)       RGB4{N0f8}(1.0,1.0,1.0)\n",
       " RGB4{N0f8}(0.996,1.0,1.0)       RGB4{N0f8}(1.0,1.0,1.0)\n",
       " RGB4{N0f8}(0.996,1.0,1.0)       RGB4{N0f8}(1.0,1.0,1.0)\n",
       " RGB4{N0f8}(0.996,1.0,1.0)    …  RGB4{N0f8}(1.0,1.0,1.0)\n",
       " RGB4{N0f8}(1.0,1.0,1.0)         RGB4{N0f8}(1.0,1.0,1.0)\n",
       " RGB4{N0f8}(1.0,1.0,1.0)         RGB4{N0f8}(1.0,1.0,1.0)\n",
       " RGB4{N0f8}(1.0,1.0,1.0)         RGB4{N0f8}(1.0,1.0,1.0)\n",
       " RGB4{N0f8}(1.0,1.0,1.0)         RGB4{N0f8}(1.0,1.0,1.0)"
      ]
     },
     "execution_count": 9,
     "metadata": {},
     "output_type": "execute_result"
    }
   ],
   "source": [
    "apple2 = load(\"data/107_100.jpg\")"
   ]
  },
  {
   "cell_type": "code",
   "execution_count": 10,
   "metadata": {},
   "outputs": [
    {
     "name": "stdout",
     "output_type": "stream",
     "text": [
      "green_amt = 0.46902156862745104\n"
     ]
    },
    {
     "data": {
      "image/svg+xml": [
       "<?xml version=\"1.0\" encoding=\"utf-8\"?>\n",
       "<svg xmlns=\"http://www.w3.org/2000/svg\" xmlns:xlink=\"http://www.w3.org/1999/xlink\" width=\"600\" height=\"400\" viewBox=\"0 0 600 400\">\n",
       "<defs>\n",
       "  <clipPath id=\"clip3600\">\n",
       "    <rect x=\"0\" y=\"0\" width=\"600\" height=\"400\"/>\n",
       "  </clipPath>\n",
       "</defs>\n",
       "<polygon clip-path=\"url(#clip3600)\" points=\"\n",
       "0,400 600,400 600,0 0,0 \n",
       "  \" fill=\"#ffffff\" fill-opacity=\"1\"/>\n",
       "<defs>\n",
       "  <clipPath id=\"clip3601\">\n",
       "    <rect x=\"120\" y=\"0\" width=\"421\" height=\"400\"/>\n",
       "  </clipPath>\n",
       "</defs>\n",
       "<polygon clip-path=\"url(#clip3600)\" points=\"\n",
       "39.1651,375.869 580.315,375.869 580.315,11.811 39.1651,11.811 \n",
       "  \" fill=\"#ffffff\" fill-opacity=\"1\"/>\n",
       "<defs>\n",
       "  <clipPath id=\"clip3602\">\n",
       "    <rect x=\"39\" y=\"11\" width=\"542\" height=\"365\"/>\n",
       "  </clipPath>\n",
       "</defs>\n",
       "<polyline clip-path=\"url(#clip3602)\" style=\"stroke:#000000; stroke-width:0.5; stroke-opacity:0.1; fill:none\" points=\"\n",
       "  39.1651,375.869 39.1651,11.811 \n",
       "  \"/>\n",
       "<polyline clip-path=\"url(#clip3602)\" style=\"stroke:#000000; stroke-width:0.5; stroke-opacity:0.1; fill:none\" points=\"\n",
       "  147.395,375.869 147.395,11.811 \n",
       "  \"/>\n",
       "<polyline clip-path=\"url(#clip3602)\" style=\"stroke:#000000; stroke-width:0.5; stroke-opacity:0.1; fill:none\" points=\"\n",
       "  255.625,375.869 255.625,11.811 \n",
       "  \"/>\n",
       "<polyline clip-path=\"url(#clip3602)\" style=\"stroke:#000000; stroke-width:0.5; stroke-opacity:0.1; fill:none\" points=\"\n",
       "  363.855,375.869 363.855,11.811 \n",
       "  \"/>\n",
       "<polyline clip-path=\"url(#clip3602)\" style=\"stroke:#000000; stroke-width:0.5; stroke-opacity:0.1; fill:none\" points=\"\n",
       "  472.085,375.869 472.085,11.811 \n",
       "  \"/>\n",
       "<polyline clip-path=\"url(#clip3602)\" style=\"stroke:#000000; stroke-width:0.5; stroke-opacity:0.1; fill:none\" points=\"\n",
       "  580.315,375.869 580.315,11.811 \n",
       "  \"/>\n",
       "<polyline clip-path=\"url(#clip3602)\" style=\"stroke:#000000; stroke-width:0.5; stroke-opacity:0.1; fill:none\" points=\"\n",
       "  39.1651,345.531 580.315,345.531 \n",
       "  \"/>\n",
       "<polyline clip-path=\"url(#clip3602)\" style=\"stroke:#000000; stroke-width:0.5; stroke-opacity:0.1; fill:none\" points=\"\n",
       "  39.1651,269.685 580.315,269.685 \n",
       "  \"/>\n",
       "<polyline clip-path=\"url(#clip3602)\" style=\"stroke:#000000; stroke-width:0.5; stroke-opacity:0.1; fill:none\" points=\"\n",
       "  39.1651,193.84 580.315,193.84 \n",
       "  \"/>\n",
       "<polyline clip-path=\"url(#clip3602)\" style=\"stroke:#000000; stroke-width:0.5; stroke-opacity:0.1; fill:none\" points=\"\n",
       "  39.1651,117.995 580.315,117.995 \n",
       "  \"/>\n",
       "<polyline clip-path=\"url(#clip3602)\" style=\"stroke:#000000; stroke-width:0.5; stroke-opacity:0.1; fill:none\" points=\"\n",
       "  39.1651,42.1492 580.315,42.1492 \n",
       "  \"/>\n",
       "<polyline clip-path=\"url(#clip3600)\" style=\"stroke:#000000; stroke-width:1; stroke-opacity:1; fill:none\" points=\"\n",
       "  39.1651,375.869 580.315,375.869 \n",
       "  \"/>\n",
       "<polyline clip-path=\"url(#clip3600)\" style=\"stroke:#000000; stroke-width:1; stroke-opacity:1; fill:none\" points=\"\n",
       "  39.1651,375.869 39.1651,11.811 \n",
       "  \"/>\n",
       "<polyline clip-path=\"url(#clip3600)\" style=\"stroke:#000000; stroke-width:1; stroke-opacity:1; fill:none\" points=\"\n",
       "  39.1651,375.869 39.1651,370.408 \n",
       "  \"/>\n",
       "<polyline clip-path=\"url(#clip3600)\" style=\"stroke:#000000; stroke-width:1; stroke-opacity:1; fill:none\" points=\"\n",
       "  147.395,375.869 147.395,370.408 \n",
       "  \"/>\n",
       "<polyline clip-path=\"url(#clip3600)\" style=\"stroke:#000000; stroke-width:1; stroke-opacity:1; fill:none\" points=\"\n",
       "  255.625,375.869 255.625,370.408 \n",
       "  \"/>\n",
       "<polyline clip-path=\"url(#clip3600)\" style=\"stroke:#000000; stroke-width:1; stroke-opacity:1; fill:none\" points=\"\n",
       "  363.855,375.869 363.855,370.408 \n",
       "  \"/>\n",
       "<polyline clip-path=\"url(#clip3600)\" style=\"stroke:#000000; stroke-width:1; stroke-opacity:1; fill:none\" points=\"\n",
       "  472.085,375.869 472.085,370.408 \n",
       "  \"/>\n",
       "<polyline clip-path=\"url(#clip3600)\" style=\"stroke:#000000; stroke-width:1; stroke-opacity:1; fill:none\" points=\"\n",
       "  580.315,375.869 580.315,370.408 \n",
       "  \"/>\n",
       "<polyline clip-path=\"url(#clip3600)\" style=\"stroke:#000000; stroke-width:1; stroke-opacity:1; fill:none\" points=\"\n",
       "  39.1651,345.531 47.2823,345.531 \n",
       "  \"/>\n",
       "<polyline clip-path=\"url(#clip3600)\" style=\"stroke:#000000; stroke-width:1; stroke-opacity:1; fill:none\" points=\"\n",
       "  39.1651,269.685 47.2823,269.685 \n",
       "  \"/>\n",
       "<polyline clip-path=\"url(#clip3600)\" style=\"stroke:#000000; stroke-width:1; stroke-opacity:1; fill:none\" points=\"\n",
       "  39.1651,193.84 47.2823,193.84 \n",
       "  \"/>\n",
       "<polyline clip-path=\"url(#clip3600)\" style=\"stroke:#000000; stroke-width:1; stroke-opacity:1; fill:none\" points=\"\n",
       "  39.1651,117.995 47.2823,117.995 \n",
       "  \"/>\n",
       "<polyline clip-path=\"url(#clip3600)\" style=\"stroke:#000000; stroke-width:1; stroke-opacity:1; fill:none\" points=\"\n",
       "  39.1651,42.1492 47.2823,42.1492 \n",
       "  \"/>\n",
       "<g clip-path=\"url(#clip3600)\">\n",
       "<text style=\"fill:#000000; fill-opacity:1; font-family:Arial,Helvetica Neue,Helvetica,sans-serif; font-size:12; text-anchor:middle;\" transform=\"rotate(0, 39.1651, 389.669)\" x=\"39.1651\" y=\"389.669\">0.0</text>\n",
       "</g>\n",
       "<g clip-path=\"url(#clip3600)\">\n",
       "<text style=\"fill:#000000; fill-opacity:1; font-family:Arial,Helvetica Neue,Helvetica,sans-serif; font-size:12; text-anchor:middle;\" transform=\"rotate(0, 147.395, 389.669)\" x=\"147.395\" y=\"389.669\">0.2</text>\n",
       "</g>\n",
       "<g clip-path=\"url(#clip3600)\">\n",
       "<text style=\"fill:#000000; fill-opacity:1; font-family:Arial,Helvetica Neue,Helvetica,sans-serif; font-size:12; text-anchor:middle;\" transform=\"rotate(0, 255.625, 389.669)\" x=\"255.625\" y=\"389.669\">0.4</text>\n",
       "</g>\n",
       "<g clip-path=\"url(#clip3600)\">\n",
       "<text style=\"fill:#000000; fill-opacity:1; font-family:Arial,Helvetica Neue,Helvetica,sans-serif; font-size:12; text-anchor:middle;\" transform=\"rotate(0, 363.855, 389.669)\" x=\"363.855\" y=\"389.669\">0.6</text>\n",
       "</g>\n",
       "<g clip-path=\"url(#clip3600)\">\n",
       "<text style=\"fill:#000000; fill-opacity:1; font-family:Arial,Helvetica Neue,Helvetica,sans-serif; font-size:12; text-anchor:middle;\" transform=\"rotate(0, 472.085, 389.669)\" x=\"472.085\" y=\"389.669\">0.8</text>\n",
       "</g>\n",
       "<g clip-path=\"url(#clip3600)\">\n",
       "<text style=\"fill:#000000; fill-opacity:1; font-family:Arial,Helvetica Neue,Helvetica,sans-serif; font-size:12; text-anchor:middle;\" transform=\"rotate(0, 580.315, 389.669)\" x=\"580.315\" y=\"389.669\">1.0</text>\n",
       "</g>\n",
       "<g clip-path=\"url(#clip3600)\">\n",
       "<text style=\"fill:#000000; fill-opacity:1; font-family:Arial,Helvetica Neue,Helvetica,sans-serif; font-size:12; text-anchor:end;\" transform=\"rotate(0, 33.1651, 350.031)\" x=\"33.1651\" y=\"350.031\">0.00</text>\n",
       "</g>\n",
       "<g clip-path=\"url(#clip3600)\">\n",
       "<text style=\"fill:#000000; fill-opacity:1; font-family:Arial,Helvetica Neue,Helvetica,sans-serif; font-size:12; text-anchor:end;\" transform=\"rotate(0, 33.1651, 274.185)\" x=\"33.1651\" y=\"274.185\">0.25</text>\n",
       "</g>\n",
       "<g clip-path=\"url(#clip3600)\">\n",
       "<text style=\"fill:#000000; fill-opacity:1; font-family:Arial,Helvetica Neue,Helvetica,sans-serif; font-size:12; text-anchor:end;\" transform=\"rotate(0, 33.1651, 198.34)\" x=\"33.1651\" y=\"198.34\">0.50</text>\n",
       "</g>\n",
       "<g clip-path=\"url(#clip3600)\">\n",
       "<text style=\"fill:#000000; fill-opacity:1; font-family:Arial,Helvetica Neue,Helvetica,sans-serif; font-size:12; text-anchor:end;\" transform=\"rotate(0, 33.1651, 122.495)\" x=\"33.1651\" y=\"122.495\">0.75</text>\n",
       "</g>\n",
       "<g clip-path=\"url(#clip3600)\">\n",
       "<text style=\"fill:#000000; fill-opacity:1; font-family:Arial,Helvetica Neue,Helvetica,sans-serif; font-size:12; text-anchor:end;\" transform=\"rotate(0, 33.1651, 46.6492)\" x=\"33.1651\" y=\"46.6492\">1.00</text>\n",
       "</g>\n",
       "<polyline clip-path=\"url(#clip3602)\" style=\"stroke:#009af9; stroke-width:3; stroke-opacity:1; fill:none\" points=\"\n",
       "  -2613.74,345.531 -2125.08,345.531 -1831.42,345.531 -1583.14,345.531 -1313.43,345.531 -1064.78,345.531 -798.205,345.531 -489.351,345.531 -214.877,345.531 25.8113,345.531 \n",
       "  91.4151,345.53 157.019,345.517 189.821,345.467 222.623,345.234 239.024,344.886 255.424,344.136 271.825,342.518 288.226,339.065 296.476,336.078 304.725,331.774 \n",
       "  312.974,325.644 321.223,317.05 325.348,311.605 329.472,305.27 333.597,297.962 337.722,289.61 341.846,280.165 345.971,269.615 350.095,257.988 354.22,245.365 \n",
       "  362.469,217.721 370.718,188.349 378.968,159.383 387.217,132.845 391.341,120.952 395.466,110.12 399.591,100.391 403.715,91.7616 411.964,77.6144 420.214,67.1046 \n",
       "  428.463,59.5075 436.712,54.1237 444.961,50.3618 453.211,47.759 469.709,44.7471 486.207,43.3458 519.204,42.4015 552.201,42.2022 625.165,42.1508 698.13,42.1492 \n",
       "  771.094,42.1492 844.059,42.1492 982.906,42.1492 1121.75,42.1492 1410.49,42.1492 1653.55,42.1492 1950.29,42.1492 2229.24,42.1492 2676.14,42.1492 \n",
       "  \"/>\n",
       "<circle clip-path=\"url(#clip3602)\" style=\"fill:#000000; stroke:none; fill-opacity:1\" cx=\"222.354\" cy=\"345.531\" r=\"4\"/>\n",
       "<circle clip-path=\"url(#clip3602)\" style=\"fill:#e26f46; stroke:none; fill-opacity:1\" cx=\"222.354\" cy=\"345.531\" r=\"3\"/>\n",
       "<circle clip-path=\"url(#clip3602)\" style=\"fill:#000000; stroke:none; fill-opacity:1\" cx=\"515.821\" cy=\"42.1492\" r=\"4\"/>\n",
       "<circle clip-path=\"url(#clip3602)\" style=\"fill:#3da44d; stroke:none; fill-opacity:1\" cx=\"515.821\" cy=\"42.1492\" r=\"3\"/>\n",
       "<circle clip-path=\"url(#clip3602)\" style=\"fill:#000000; stroke:none; fill-opacity:1\" cx=\"292.976\" cy=\"345.531\" r=\"4\"/>\n",
       "<circle clip-path=\"url(#clip3602)\" style=\"fill:#c271d2; stroke:none; fill-opacity:1\" cx=\"292.976\" cy=\"345.531\" r=\"3\"/>\n",
       "<polygon clip-path=\"url(#clip3600)\" points=\"\n",
       "57.1651,108.291 172.013,108.291 172.013,32.691 57.1651,32.691 \n",
       "  \" fill=\"#ffffff\" fill-opacity=\"1\"/>\n",
       "<polyline clip-path=\"url(#clip3600)\" style=\"stroke:#000000; stroke-width:1; stroke-opacity:1; fill:none\" points=\"\n",
       "  57.1651,108.291 172.013,108.291 172.013,32.691 57.1651,32.691 57.1651,108.291 \n",
       "  \"/>\n",
       "<polyline clip-path=\"url(#clip3600)\" style=\"stroke:#009af9; stroke-width:3; stroke-opacity:1; fill:none\" points=\"\n",
       "  63.1651,47.811 99.1651,47.811 \n",
       "  \"/>\n",
       "<g clip-path=\"url(#clip3600)\">\n",
       "<text style=\"fill:#000000; fill-opacity:1; font-family:Arial,Helvetica Neue,Helvetica,sans-serif; font-size:12; text-anchor:start;\" transform=\"rotate(0, 105.165, 52.311)\" x=\"105.165\" y=\"52.311\">model</text>\n",
       "</g>\n",
       "<circle clip-path=\"url(#clip3600)\" style=\"fill:#000000; stroke:none; fill-opacity:1\" cx=\"84.1651\" cy=\"62.931\" r=\"6\"/>\n",
       "<circle clip-path=\"url(#clip3600)\" style=\"fill:#e26f46; stroke:none; fill-opacity:1\" cx=\"84.1651\" cy=\"62.931\" r=\"5\"/>\n",
       "<g clip-path=\"url(#clip3600)\">\n",
       "<text style=\"fill:#000000; fill-opacity:1; font-family:Arial,Helvetica Neue,Helvetica,sans-serif; font-size:12; text-anchor:start;\" transform=\"rotate(0, 105.165, 67.431)\" x=\"105.165\" y=\"67.431\">apple</text>\n",
       "</g>\n",
       "<circle clip-path=\"url(#clip3600)\" style=\"fill:#000000; stroke:none; fill-opacity:1\" cx=\"84.1651\" cy=\"78.051\" r=\"6\"/>\n",
       "<circle clip-path=\"url(#clip3600)\" style=\"fill:#3da44d; stroke:none; fill-opacity:1\" cx=\"84.1651\" cy=\"78.051\" r=\"5\"/>\n",
       "<g clip-path=\"url(#clip3600)\">\n",
       "<text style=\"fill:#000000; fill-opacity:1; font-family:Arial,Helvetica Neue,Helvetica,sans-serif; font-size:12; text-anchor:start;\" transform=\"rotate(0, 105.165, 82.551)\" x=\"105.165\" y=\"82.551\">banana</text>\n",
       "</g>\n",
       "<circle clip-path=\"url(#clip3600)\" style=\"fill:#000000; stroke:none; fill-opacity:1\" cx=\"84.1651\" cy=\"93.171\" r=\"6\"/>\n",
       "<circle clip-path=\"url(#clip3600)\" style=\"fill:#c271d2; stroke:none; fill-opacity:1\" cx=\"84.1651\" cy=\"93.171\" r=\"5\"/>\n",
       "<g clip-path=\"url(#clip3600)\">\n",
       "<text style=\"fill:#000000; fill-opacity:1; font-family:Arial,Helvetica Neue,Helvetica,sans-serif; font-size:12; text-anchor:start;\" transform=\"rotate(0, 105.165, 97.671)\" x=\"105.165\" y=\"97.671\">new apple</text>\n",
       "</g>\n",
       "</svg>\n"
      ]
     },
     "execution_count": 10,
     "metadata": {},
     "output_type": "execute_result"
    }
   ],
   "source": [
    "green_amt = mean(Float64.(green.(apple2)))\n",
    "@show green_amt\n",
    "\n",
    "scatter!([green_amt], [0.0], label=\"new apple\")"
   ]
  },
  {
   "cell_type": "markdown",
   "metadata": {},
   "source": [
    "Our model successfully says that our new image is an apple! Pat yourself on the back: you've actually just trained your first neural network!"
   ]
  },
  {
   "cell_type": "markdown",
   "metadata": {},
   "source": [
    "**Exercise**: Load the image of a banana in `data/8_100.jpg` as `mybanana`. Edit the code below to calculate the amount of green in `mybanana` and to overlay data for this image with the existing model and data points."
   ]
  },
  {
   "cell_type": "code",
   "execution_count": 11,
   "metadata": {},
   "outputs": [
    {
     "data": {
      "image/png": "[encoded data removed]",
      "text/plain": [
       "100×100 Array{RGB4{N0f8},2}:\n",
       " RGB4{N0f8}(1.0,1.0,1.0)  RGB4{N0f8}(1.0,1.0,1.0)  …  RGB4{N0f8}(1.0,1.0,1.0)\n",
       " RGB4{N0f8}(1.0,1.0,1.0)  RGB4{N0f8}(1.0,1.0,1.0)     RGB4{N0f8}(1.0,1.0,1.0)\n",
       " RGB4{N0f8}(1.0,1.0,1.0)  RGB4{N0f8}(1.0,1.0,1.0)     RGB4{N0f8}(1.0,1.0,1.0)\n",
       " RGB4{N0f8}(1.0,1.0,1.0)  RGB4{N0f8}(1.0,1.0,1.0)     RGB4{N0f8}(1.0,1.0,1.0)\n",
       " RGB4{N0f8}(1.0,1.0,1.0)  RGB4{N0f8}(1.0,1.0,1.0)     RGB4{N0f8}(1.0,1.0,1.0)\n",
       " RGB4{N0f8}(1.0,1.0,1.0)  RGB4{N0f8}(1.0,1.0,1.0)  …  RGB4{N0f8}(1.0,1.0,1.0)\n",
       " RGB4{N0f8}(1.0,1.0,1.0)  RGB4{N0f8}(1.0,1.0,1.0)     RGB4{N0f8}(1.0,1.0,1.0)\n",
       " RGB4{N0f8}(1.0,1.0,1.0)  RGB4{N0f8}(1.0,1.0,1.0)     RGB4{N0f8}(1.0,1.0,1.0)\n",
       " RGB4{N0f8}(1.0,1.0,1.0)  RGB4{N0f8}(1.0,1.0,1.0)     RGB4{N0f8}(1.0,1.0,1.0)\n",
       " RGB4{N0f8}(1.0,1.0,1.0)  RGB4{N0f8}(1.0,1.0,1.0)     RGB4{N0f8}(1.0,1.0,1.0)\n",
       " RGB4{N0f8}(1.0,1.0,1.0)  RGB4{N0f8}(1.0,1.0,1.0)  …  RGB4{N0f8}(1.0,1.0,1.0)\n",
       " RGB4{N0f8}(1.0,1.0,1.0)  RGB4{N0f8}(1.0,1.0,1.0)     RGB4{N0f8}(1.0,1.0,1.0)\n",
       " RGB4{N0f8}(1.0,1.0,1.0)  RGB4{N0f8}(1.0,1.0,1.0)     RGB4{N0f8}(1.0,1.0,1.0)\n",
       " ⋮                                                 ⋱                         \n",
       " RGB4{N0f8}(1.0,1.0,1.0)  RGB4{N0f8}(1.0,1.0,1.0)     RGB4{N0f8}(1.0,1.0,1.0)\n",
       " RGB4{N0f8}(1.0,1.0,1.0)  RGB4{N0f8}(1.0,1.0,1.0)     RGB4{N0f8}(1.0,1.0,1.0)\n",
       " RGB4{N0f8}(1.0,1.0,1.0)  RGB4{N0f8}(1.0,1.0,1.0)  …  RGB4{N0f8}(1.0,1.0,1.0)\n",
       " RGB4{N0f8}(1.0,1.0,1.0)  RGB4{N0f8}(1.0,1.0,1.0)     RGB4{N0f8}(1.0,1.0,1.0)\n",
       " RGB4{N0f8}(1.0,1.0,1.0)  RGB4{N0f8}(1.0,1.0,1.0)     RGB4{N0f8}(1.0,1.0,1.0)\n",
       " RGB4{N0f8}(1.0,1.0,1.0)  RGB4{N0f8}(1.0,1.0,1.0)     RGB4{N0f8}(1.0,1.0,1.0)\n",
       " RGB4{N0f8}(1.0,1.0,1.0)  RGB4{N0f8}(1.0,1.0,1.0)     RGB4{N0f8}(1.0,1.0,1.0)\n",
       " RGB4{N0f8}(1.0,1.0,1.0)  RGB4{N0f8}(1.0,1.0,1.0)  …  RGB4{N0f8}(1.0,1.0,1.0)\n",
       " RGB4{N0f8}(1.0,1.0,1.0)  RGB4{N0f8}(1.0,1.0,1.0)     RGB4{N0f8}(1.0,1.0,1.0)\n",
       " RGB4{N0f8}(1.0,1.0,1.0)  RGB4{N0f8}(1.0,1.0,1.0)     RGB4{N0f8}(1.0,1.0,1.0)\n",
       " RGB4{N0f8}(1.0,1.0,1.0)  RGB4{N0f8}(1.0,1.0,1.0)     RGB4{N0f8}(1.0,1.0,1.0)\n",
       " RGB4{N0f8}(1.0,1.0,1.0)  RGB4{N0f8}(1.0,1.0,1.0)     RGB4{N0f8}(1.0,1.0,1.0)"
      ]
     },
     "execution_count": 11,
     "metadata": {},
     "output_type": "execute_result"
    }
   ],
   "source": [
    "mybanana = load(\"data/8_100.jpg\")\n",
    "# mybanana_green_amt = \n",
    "# scatter!(label=\"my banana\")"
   ]
  },
  {
   "cell_type": "markdown",
   "metadata": {},
   "source": [
    "## Closing remarks: bigger models, more data, more accuracy\n",
    "\n",
    "That last apple should start making you think: not all apples are that red and some are quite yellow. \"Redness\" is one attribute of being an apple, but isn't the full thing. What we need to do is incorporate more ideas into our model by allowing more inputs. However, more inputs would mean more parameters to play with. Also, we would like to have the computer start \"learning\" on its own, instead of modifying the parameters ourselves until we think it \"looks right\". How do we take the next step?\n",
    "\n",
    "The first thing to think about is, if you wanted to incorporate more data into the model, how would you change the sigmoid function? Play around with some ideas. But also, start thinking about how you chose parameters. What process did you do to finally end up at good parameters? These two problems (working with models with more data and automatically choosing parameters) are the last remaining step to understanding deep learning."
   ]
  }
 ],
 "metadata": {
  "kernelspec": {
   "display_name": "Julia 0.6.2-pre",
   "language": "julia",
   "name": "julia-0.6"
  },
  "language_info": {
   "file_extension": ".jl",
   "mimetype": "application/julia",
   "name": "julia",
   "version": "0.6.2"
  }
 },
 "nbformat": 4,
 "nbformat_minor": 2
}
