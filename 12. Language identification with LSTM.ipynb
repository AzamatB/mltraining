{
 "cells": [
  {
   "cell_type": "code",
   "execution_count": 1,
   "metadata": {
    "collapsed": true
   },
   "outputs": [],
   "source": [
    "using Flux\n",
    "using Flux: onehot, onehotbatch, crossentropy, reset!, throttle"
   ]
  },
  {
   "cell_type": "code",
   "execution_count": 2,
   "metadata": {},
   "outputs": [
    {
     "data": {
      "text/plain": [
       "Dict{Any,Any} with 5 entries:\n",
       "  :en => String[\"wikipedia (/ˌwɪkɪˈpiːdiə/ ( listen)wik-i-pee-dee-ə or /ˌwɪkiˈp…\n",
       "  :it => String[\"wikipedia (pronuncia: vedi sotto) e un'enciclopediaonline a co…\n",
       "  :fr => String[\"wikipedia ecouter est un projet d'encyclopedie universelle, mu…\n",
       "  :es => String[\"wikipedia es una enciclopedialibre,[nota 2]\\u200bpoliglota y e…\n",
       "  :da => String[\"wikipedia er en encyklopædi med abent indhold, skrevet i samar…"
      ]
     },
     "execution_count": 2,
     "metadata": {},
     "output_type": "execute_result"
    }
   ],
   "source": [
    "corpora = Dict()\n",
    "\n",
    "for file in readdir(\"data/corpus\")\n",
    "  lang = Symbol(match(r\"(.*)\\.txt\", file).captures[1])\n",
    "  corpus = split(String(read(\"data/corpus/$file\")), \".\")\n",
    "  corpus = strip.(normalize_string.(corpus, casefold=true, stripmark=true))\n",
    "  corpus = filter(!isempty, corpus)\n",
    "  corpora[lang] = corpus\n",
    "end\n",
    "\n",
    "corpora"
   ]
  },
  {
   "cell_type": "code",
   "execution_count": 5,
   "metadata": {},
   "outputs": [
    {
     "data": {
      "text/plain": [
       "5-element Array{Any,1}:\n",
       " :en\n",
       " :it\n",
       " :fr\n",
       " :es\n",
       " :da"
      ]
     },
     "execution_count": 5,
     "metadata": {},
     "output_type": "execute_result"
    }
   ],
   "source": [
    "langs = collect(keys(corpora))"
   ]
  },
  {
   "cell_type": "code",
   "execution_count": 6,
   "metadata": {
    "collapsed": true
   },
   "outputs": [],
   "source": [
    "alphabet = ['a':'z'; '0':'9'; ' '; '\\n'; '_'];"
   ]
  },
  {
   "cell_type": "code",
   "execution_count": 7,
   "metadata": {},
   "outputs": [
    {
     "data": {
      "text/plain": [
       "148-element Array{Char,1}:\n",
       " '('\n",
       " '/'\n",
       " 'ˌ'\n",
       " 'ɪ'\n",
       " 'ˈ'\n",
       " 'ː'\n",
       " 'ə'\n",
       " ' '\n",
       " ')'\n",
       " '-'\n",
       " '['\n",
       " ']'\n",
       " ','\n",
       " ⋮  \n",
       " 'ব'\n",
       " 'ল'\n",
       " 'দ'\n",
       " 'শ'\n",
       " 'চ'\n",
       " 'ট'\n",
       " 'ম'\n",
       " 'ঢ'\n",
       " 'ক'\n",
       " 'খ'\n",
       " 'হ'\n",
       " 'স'"
      ]
     },
     "execution_count": 7,
     "metadata": {},
     "output_type": "execute_result"
    }
   ],
   "source": [
    "# See which chars will be represented as \"unknown\"\n",
    "unique(filter(x -> x ∉ alphabet, join(vcat(values(corpora)...))))"
   ]
  },
  {
   "cell_type": "code",
   "execution_count": 8,
   "metadata": {},
   "outputs": [
    {
     "data": {
      "text/plain": [
       "8284-element Array{Tuple{Flux.OneHotMatrix{Array{Flux.OneHotVector,1}},Flux.OneHotVector},1}:\n",
       " (Bool[false false … false false; false false … false false; … ; false false … false false; false false … false false], Bool[false, true, false, false, false])\n",
       " (Bool[false true … false false; false false … false false; … ; false false … false false; false false … false false], Bool[false, true, false, false, false]) \n",
       " (Bool[false false … true false; false false … false false; … ; false false … false false; true false … false false], Bool[false, false, false, true, false])  \n",
       " (Bool[false false … false true; false false … false false; … ; false false … false false; true false … false false], Bool[false, false, false, true, false])  \n",
       " (Bool[false false … false false; false false … false false; … ; false false … false false; true false … false false], Bool[true, false, false, false, false]) \n",
       " (Bool[false false … false false; false false … false false; … ; false false … false false; true false … false false], Bool[false, false, false, true, false]) \n",
       " (Bool[false false … false false; false false … false false; … ; false false … false false; false false … false false], Bool[false, false, false, true, false])\n",
       " (Bool[false false … false true; false false … false false; … ; false false … false false; false false … false false], Bool[false, false, false, true, false]) \n",
       " (Bool[false false … true false; false false … false false; … ; false false … false false; false true … false false], Bool[false, false, false, false, true])  \n",
       " (Bool[false true … false false; false false … false false; … ; false false … false false; false false … false false], Bool[false, false, false, true, false]) \n",
       " (Bool[false true … false false; false false … false false; … ; false false … false false; false false … false false], Bool[false, false, false, true, false]) \n",
       " (Bool[false false … false false; false false … false false; … ; false false … false false; true false … false false], Bool[false, false, false, true, false]) \n",
       " (Bool[false false … false false; false false … false false; … ; false false … false false; true true … false false], Bool[false, true, false, false, false])  \n",
       " ⋮                                                                                                                                                             \n",
       " (Bool[false false … false false; false false … false false; … ; false false … false false; false false … false false], Bool[false, true, false, false, false])\n",
       " (Bool[false false … false false; false false … false false; … ; false false … false false; false false … false false], Bool[false, false, true, false, false])\n",
       " (Bool[true false … false false; false false … false false; … ; false false … false false; false false … false false], Bool[true, false, false, false, false]) \n",
       " (Bool[false false … false true; false false … false false; … ; false false … false false; false false … false false], Bool[false, false, false, true, false]) \n",
       " (Bool[false false … false false; false false … false false; … ; false false … false false; false false … false false], Bool[false, false, true, false, false])\n",
       " (Bool[false false … false false; false false … false false; … ; false false … false false; true false … false false], Bool[false, false, false, true, false]) \n",
       " (Bool[false false … false true; false false … false false; … ; false false … false false; false false … false false], Bool[false, false, false, true, false]) \n",
       " (Bool[false false … false true; false false … false false; … ; false false … false false; false false … false false], Bool[false, false, false, true, false]) \n",
       " (Bool[false false … false false; false false … false false; … ; false false … false false; false false … false false], Bool[false, true, false, false, false])\n",
       " (Bool[false false … false false; false false … false false; … ; false false … false false; false false … false false], Bool[false, false, true, false, false])\n",
       " (Bool[false false … false false; false false … false false; … ; false false … false false; true false … false false], Bool[false, false, false, true, false]) \n",
       " (Bool[false true … false false; false false … false false; … ; false false … false false; false false … false false], Bool[false, true, false, false, false]) "
      ]
     },
     "execution_count": 8,
     "metadata": {},
     "output_type": "execute_result"
    }
   ],
   "source": [
    "dataset = [(onehotbatch(s, alphabet, '_'), onehot(l, langs))\n",
    "           for l in langs for s in corpora[l]] |> shuffle\n",
    "        "
   ]
  },
  {
   "cell_type": "code",
   "execution_count": 9,
   "metadata": {
    "collapsed": true
   },
   "outputs": [],
   "source": [
    "train, test = dataset[1:end-100], dataset[end-99:end];"
   ]
  },
  {
   "cell_type": "code",
   "execution_count": 10,
   "metadata": {},
   "outputs": [
    {
     "data": {
      "text/plain": [
       "loss (generic function with 1 method)"
      ]
     },
     "execution_count": 10,
     "metadata": {},
     "output_type": "execute_result"
    }
   ],
   "source": [
    "N = 15\n",
    "\n",
    "scanner = Chain(Dense(length(alphabet), N, σ), LSTM(N, N))\n",
    "encoder = Dense(N, length(langs))\n",
    "\n",
    "function model(x)\n",
    "  state = scanner.(x.data)[end]\n",
    "  reset!(scanner)\n",
    "  softmax(encoder(state))\n",
    "end\n",
    "\n",
    "loss(x, y) = crossentropy(model(x), y)"
   ]
  },
  {
   "cell_type": "code",
   "execution_count": 11,
   "metadata": {},
   "outputs": [
    {
     "data": {
      "text/plain": [
       "(::#11) (generic function with 1 method)"
      ]
     },
     "execution_count": 11,
     "metadata": {},
     "output_type": "execute_result"
    }
   ],
   "source": [
    "testloss() = mean(loss(t...) for t in test)\n",
    "opt = ADAM(params(scanner, encoder))\n",
    "evalcb = () -> @show testloss()"
   ]
  },
  {
   "cell_type": "code",
   "execution_count": null,
   "metadata": {
    "scrolled": false
   },
   "outputs": [],
   "source": [
    "Flux.train!(loss, train, opt, cb = throttle(evalcb, 10));"
   ]
  },
  {
   "cell_type": "code",
   "execution_count": 14,
   "metadata": {},
   "outputs": [
    {
     "data": {
      "text/plain": [
       "Tracked 5-element Array{Float64,1}:\n",
       " 0.143299 \n",
       " 0.165127 \n",
       " 0.0809996\n",
       " 0.524173 \n",
       " 0.0864007"
      ]
     },
     "execution_count": 14,
     "metadata": {},
     "output_type": "execute_result"
    }
   ],
   "source": [
    "model(onehotbatch(normalize_string(\"c'é una bella filosofia\", casefold=true, stripmark=true),\n",
    "        alphabet, '_'))"
   ]
  },
  {
   "cell_type": "code",
   "execution_count": 15,
   "metadata": {},
   "outputs": [
    {
     "data": {
      "text/html": [
       "<div id=\"interact-js-shim\">\n",
       "    <script charset=\"utf-8\">\n",
       "(function (IPython, $, _, MathJax) {\n",
       "    $.event.special.destroyed = {\n",
       "\tremove: function(o) {\n",
       "\t    if (o.handler) {\n",
       "\t\to.handler.apply(this, arguments)\n",
       "\t    }\n",
       "\t}\n",
       "    }\n",
       "\n",
       "    var OutputArea = IPython.version >= \"4.0.0\" ? require(\"notebook/js/outputarea\").OutputArea : IPython.OutputArea;\n",
       "\n",
       "    var redrawValue = function (container, type, val) {\n",
       "\tvar selector = $(\"<div/>\");\n",
       "\tvar oa = new OutputArea(_.extend(selector, {\n",
       "\t    selector: selector,\n",
       "\t    prompt_area: true,\n",
       "\t    events: IPython.events,\n",
       "\t    keyboard_manager: IPython.keyboard_manager\n",
       "\t})); // Hack to work with IPython 2.1.0\n",
       "\n",
       "\tswitch (type) {\n",
       "\tcase \"image/png\":\n",
       "            var _src = 'data:' + type + ';base64,' + val;\n",
       "\t    $(container).find(\"img\").attr('src', _src);\n",
       "\t    break;\n",
       "\tcase \"text/latex\":\n",
       "\t\tif (MathJax){\n",
       "\t\t\tvar math = MathJax.Hub.getAllJax(container)[0];\n",
       "\t\t\tMathJax.Hub.Queue([\"Text\", math, val.replace(/^\\${1,2}|\\${1,2}$/g, '')]);\n",
       "\t\t\tbreak;\n",
       "\t\t}\n",
       "\tdefault:\n",
       "\t    var toinsert = OutputArea.append_map[type].apply(\n",
       "\t\toa, [val, {}, selector]\n",
       "\t    );\n",
       "\t    $(container).empty().append(toinsert.contents());\n",
       "\t    selector.remove();\n",
       "\t}\n",
       "    }\n",
       "\n",
       "\n",
       "    $(document).ready(function() {\n",
       "\tfunction initComm(evt, data) {\n",
       "\t    var comm_manager = data.kernel.comm_manager;\n",
       "        //_.extend(comm_manager.targets, require(\"widgets/js/widget\"))\n",
       "\t    comm_manager.register_target(\"Signal\", function (comm) {\n",
       "            comm.on_msg(function (msg) {\n",
       "                var val = msg.content.data.value;\n",
       "                $(\".signal-\" + comm.comm_id).each(function() {\n",
       "                var type = $(this).data(\"type\");\n",
       "                if (typeof(val[type]) !== \"undefined\" && val[type] !== null) {\n",
       "                    redrawValue(this, type, val[type], type);\n",
       "                }\n",
       "                });\n",
       "                delete val;\n",
       "                delete msg.content.data.value;\n",
       "            });\n",
       "\t    });\n",
       "\n",
       "\t    // coordingate with Comm and redraw Signals\n",
       "\t    // XXX: Test using Reactive here to improve performance\n",
       "\t    $([IPython.events]).on(\n",
       "\t\t'output_appended.OutputArea', function (event, type, value, md, toinsert) {\n",
       "\t\t    if (md && md.reactive) {\n",
       "                // console.log(md.comm_id);\n",
       "                toinsert.addClass(\"signal-\" + md.comm_id);\n",
       "                toinsert.data(\"type\", type);\n",
       "                // Signal back indicating the mimetype required\n",
       "                var comm_manager = IPython.notebook.kernel.comm_manager;\n",
       "                var comm = comm_manager.comms[md.comm_id];\n",
       "                comm.then(function (c) {\n",
       "                    c.send({action: \"subscribe_mime\",\n",
       "                       mime: type});\n",
       "                    toinsert.bind(\"destroyed\", function() {\n",
       "                        c.send({action: \"unsubscribe_mime\",\n",
       "                               mime: type});\n",
       "                    });\n",
       "                })\n",
       "\t\t    }\n",
       "\t    });\n",
       "\t}\n",
       "\n",
       "\ttry {\n",
       "\t    // try to initialize right away. otherwise, wait on the status_started event.\n",
       "\t    initComm(undefined, IPython.notebook);\n",
       "\t} catch (e) {\n",
       "\t    $([IPython.events]).on('kernel_created.Kernel kernel_created.Session', initComm);\n",
       "\t}\n",
       "    });\n",
       "})(IPython, jQuery, _, MathJax);\n",
       "</script>\n",
       "    <script>\n",
       "        window.interactLoadedFlag = true\n",
       "       $(\"#interact-js-shim\").bind(\"destroyed\", function () {\n",
       "           if (window.interactLoadedFlag) {\n",
       "               console.warn(\"JavaScript required by Interact will be removed if you remove this cell or run using Interact more than once.\")\n",
       "           }\n",
       "       })\n",
       "       $([IPython.events]).on(\"kernel_starting.Kernel kernel_restarting.Kernel\", function () { window.interactLoadedFlag = false })\n",
       "   </script>\n",
       "</div>"
      ]
     },
     "metadata": {},
     "output_type": "display_data"
    }
   ],
   "source": [
    "using Interact, Plots"
   ]
  },
  {
   "cell_type": "code",
   "execution_count": 16,
   "metadata": {},
   "outputs": [
    {
     "data": {
      "text/plain": [
       "predict (generic function with 1 method)"
      ]
     },
     "execution_count": 16,
     "metadata": {},
     "output_type": "execute_result"
    }
   ],
   "source": [
    "predict(s) =\n",
    "    isempty(s) ?\n",
    "        softmax(ones(length(langs))) :\n",
    "        model(onehotbatch(normalize_string(s, casefold=true, stripmark=true), alphabet, '_')).data"
   ]
  },
  {
   "cell_type": "code",
   "execution_count": 17,
   "metadata": {},
   "outputs": [
    {
     "data": {
      "image/svg+xml": [
       "<?xml version=\"1.0\" encoding=\"utf-8\"?>\n",
       "<svg xmlns=\"http://www.w3.org/2000/svg\" xmlns:xlink=\"http://www.w3.org/1999/xlink\" width=\"600\" height=\"400\" viewBox=\"0 0 600 400\">\n",
       "<defs>\n",
       "  <clipPath id=\"clip2800\">\n",
       "    <rect x=\"0\" y=\"0\" width=\"600\" height=\"400\"/>\n",
       "  </clipPath>\n",
       "</defs>\n",
       "<polygon clip-path=\"url(#clip2800)\" points=\"\n",
       "0,400 600,400 600,0 0,0 \n",
       "  \" fill=\"#ffffff\" fill-opacity=\"1\"/>\n",
       "<defs>\n",
       "  <clipPath id=\"clip2801\">\n",
       "    <rect x=\"120\" y=\"0\" width=\"421\" height=\"400\"/>\n",
       "  </clipPath>\n",
       "</defs>\n",
       "<polygon clip-path=\"url(#clip2800)\" points=\"\n",
       "32.4745,375.869 580.315,375.869 580.315,11.811 32.4745,11.811 \n",
       "  \" fill=\"#ffffff\" fill-opacity=\"1\"/>\n",
       "<defs>\n",
       "  <clipPath id=\"clip2802\">\n",
       "    <rect x=\"32\" y=\"11\" width=\"549\" height=\"365\"/>\n",
       "  </clipPath>\n",
       "</defs>\n",
       "<polyline clip-path=\"url(#clip2802)\" style=\"stroke:#000000; stroke-width:0.5; stroke-opacity:0.1; fill:none\" points=\"\n",
       "  91.0486,375.869 91.0486,11.811 \n",
       "  \"/>\n",
       "<polyline clip-path=\"url(#clip2802)\" style=\"stroke:#000000; stroke-width:0.5; stroke-opacity:0.1; fill:none\" points=\"\n",
       "  91.0486,375.869 91.0486,11.811 \n",
       "  \"/>\n",
       "<polyline clip-path=\"url(#clip2802)\" style=\"stroke:#000000; stroke-width:0.5; stroke-opacity:0.1; fill:none\" points=\"\n",
       "  198.722,375.869 198.722,11.811 \n",
       "  \"/>\n",
       "<polyline clip-path=\"url(#clip2802)\" style=\"stroke:#000000; stroke-width:0.5; stroke-opacity:0.1; fill:none\" points=\"\n",
       "  198.722,375.869 198.722,11.811 \n",
       "  \"/>\n",
       "<polyline clip-path=\"url(#clip2802)\" style=\"stroke:#000000; stroke-width:0.5; stroke-opacity:0.1; fill:none\" points=\"\n",
       "  198.722,375.869 198.722,11.811 \n",
       "  \"/>\n",
       "<polyline clip-path=\"url(#clip2802)\" style=\"stroke:#000000; stroke-width:0.5; stroke-opacity:0.1; fill:none\" points=\"\n",
       "  198.722,375.869 198.722,11.811 \n",
       "  \"/>\n",
       "<polyline clip-path=\"url(#clip2802)\" style=\"stroke:#000000; stroke-width:0.5; stroke-opacity:0.1; fill:none\" points=\"\n",
       "  306.395,375.869 306.395,11.811 \n",
       "  \"/>\n",
       "<polyline clip-path=\"url(#clip2802)\" style=\"stroke:#000000; stroke-width:0.5; stroke-opacity:0.1; fill:none\" points=\"\n",
       "  306.395,375.869 306.395,11.811 \n",
       "  \"/>\n",
       "<polyline clip-path=\"url(#clip2802)\" style=\"stroke:#000000; stroke-width:0.5; stroke-opacity:0.1; fill:none\" points=\"\n",
       "  306.395,375.869 306.395,11.811 \n",
       "  \"/>\n",
       "<polyline clip-path=\"url(#clip2802)\" style=\"stroke:#000000; stroke-width:0.5; stroke-opacity:0.1; fill:none\" points=\"\n",
       "  414.068,375.869 414.068,11.811 \n",
       "  \"/>\n",
       "<polyline clip-path=\"url(#clip2802)\" style=\"stroke:#000000; stroke-width:0.5; stroke-opacity:0.1; fill:none\" points=\"\n",
       "  414.068,375.869 414.068,11.811 \n",
       "  \"/>\n",
       "<polyline clip-path=\"url(#clip2802)\" style=\"stroke:#000000; stroke-width:0.5; stroke-opacity:0.1; fill:none\" points=\"\n",
       "  414.068,375.869 414.068,11.811 \n",
       "  \"/>\n",
       "<polyline clip-path=\"url(#clip2802)\" style=\"stroke:#000000; stroke-width:0.5; stroke-opacity:0.1; fill:none\" points=\"\n",
       "  414.068,375.869 414.068,11.811 \n",
       "  \"/>\n",
       "<polyline clip-path=\"url(#clip2802)\" style=\"stroke:#000000; stroke-width:0.5; stroke-opacity:0.1; fill:none\" points=\"\n",
       "  521.741,375.869 521.741,11.811 \n",
       "  \"/>\n",
       "<polyline clip-path=\"url(#clip2802)\" style=\"stroke:#000000; stroke-width:0.5; stroke-opacity:0.1; fill:none\" points=\"\n",
       "  521.741,375.869 521.741,11.811 \n",
       "  \"/>\n",
       "<polyline clip-path=\"url(#clip2802)\" style=\"stroke:#000000; stroke-width:0.5; stroke-opacity:0.1; fill:none\" points=\"\n",
       "  32.4745,375.869 580.315,375.869 \n",
       "  \"/>\n",
       "<polyline clip-path=\"url(#clip2802)\" style=\"stroke:#000000; stroke-width:0.5; stroke-opacity:0.1; fill:none\" points=\"\n",
       "  32.4745,303.057 580.315,303.057 \n",
       "  \"/>\n",
       "<polyline clip-path=\"url(#clip2802)\" style=\"stroke:#000000; stroke-width:0.5; stroke-opacity:0.1; fill:none\" points=\"\n",
       "  32.4745,230.246 580.315,230.246 \n",
       "  \"/>\n",
       "<polyline clip-path=\"url(#clip2802)\" style=\"stroke:#000000; stroke-width:0.5; stroke-opacity:0.1; fill:none\" points=\"\n",
       "  32.4745,157.434 580.315,157.434 \n",
       "  \"/>\n",
       "<polyline clip-path=\"url(#clip2802)\" style=\"stroke:#000000; stroke-width:0.5; stroke-opacity:0.1; fill:none\" points=\"\n",
       "  32.4745,84.6226 580.315,84.6226 \n",
       "  \"/>\n",
       "<polyline clip-path=\"url(#clip2802)\" style=\"stroke:#000000; stroke-width:0.5; stroke-opacity:0.1; fill:none\" points=\"\n",
       "  32.4745,11.811 580.315,11.811 \n",
       "  \"/>\n",
       "<polyline clip-path=\"url(#clip2800)\" style=\"stroke:#000000; stroke-width:1; stroke-opacity:1; fill:none\" points=\"\n",
       "  32.4745,375.869 580.315,375.869 \n",
       "  \"/>\n",
       "<polyline clip-path=\"url(#clip2800)\" style=\"stroke:#000000; stroke-width:1; stroke-opacity:1; fill:none\" points=\"\n",
       "  32.4745,375.869 32.4745,11.811 \n",
       "  \"/>\n",
       "<polyline clip-path=\"url(#clip2800)\" style=\"stroke:#000000; stroke-width:1; stroke-opacity:1; fill:none\" points=\"\n",
       "  91.0486,375.869 91.0486,370.408 \n",
       "  \"/>\n",
       "<polyline clip-path=\"url(#clip2800)\" style=\"stroke:#000000; stroke-width:1; stroke-opacity:1; fill:none\" points=\"\n",
       "  91.0486,375.869 91.0486,370.408 \n",
       "  \"/>\n",
       "<polyline clip-path=\"url(#clip2800)\" style=\"stroke:#000000; stroke-width:1; stroke-opacity:1; fill:none\" points=\"\n",
       "  198.722,375.869 198.722,370.408 \n",
       "  \"/>\n",
       "<polyline clip-path=\"url(#clip2800)\" style=\"stroke:#000000; stroke-width:1; stroke-opacity:1; fill:none\" points=\"\n",
       "  198.722,375.869 198.722,370.408 \n",
       "  \"/>\n",
       "<polyline clip-path=\"url(#clip2800)\" style=\"stroke:#000000; stroke-width:1; stroke-opacity:1; fill:none\" points=\"\n",
       "  198.722,375.869 198.722,370.408 \n",
       "  \"/>\n",
       "<polyline clip-path=\"url(#clip2800)\" style=\"stroke:#000000; stroke-width:1; stroke-opacity:1; fill:none\" points=\"\n",
       "  198.722,375.869 198.722,370.408 \n",
       "  \"/>\n",
       "<polyline clip-path=\"url(#clip2800)\" style=\"stroke:#000000; stroke-width:1; stroke-opacity:1; fill:none\" points=\"\n",
       "  306.395,375.869 306.395,370.408 \n",
       "  \"/>\n",
       "<polyline clip-path=\"url(#clip2800)\" style=\"stroke:#000000; stroke-width:1; stroke-opacity:1; fill:none\" points=\"\n",
       "  306.395,375.869 306.395,370.408 \n",
       "  \"/>\n",
       "<polyline clip-path=\"url(#clip2800)\" style=\"stroke:#000000; stroke-width:1; stroke-opacity:1; fill:none\" points=\"\n",
       "  306.395,375.869 306.395,370.408 \n",
       "  \"/>\n",
       "<polyline clip-path=\"url(#clip2800)\" style=\"stroke:#000000; stroke-width:1; stroke-opacity:1; fill:none\" points=\"\n",
       "  414.068,375.869 414.068,370.408 \n",
       "  \"/>\n",
       "<polyline clip-path=\"url(#clip2800)\" style=\"stroke:#000000; stroke-width:1; stroke-opacity:1; fill:none\" points=\"\n",
       "  414.068,375.869 414.068,370.408 \n",
       "  \"/>\n",
       "<polyline clip-path=\"url(#clip2800)\" style=\"stroke:#000000; stroke-width:1; stroke-opacity:1; fill:none\" points=\"\n",
       "  414.068,375.869 414.068,370.408 \n",
       "  \"/>\n",
       "<polyline clip-path=\"url(#clip2800)\" style=\"stroke:#000000; stroke-width:1; stroke-opacity:1; fill:none\" points=\"\n",
       "  414.068,375.869 414.068,370.408 \n",
       "  \"/>\n",
       "<polyline clip-path=\"url(#clip2800)\" style=\"stroke:#000000; stroke-width:1; stroke-opacity:1; fill:none\" points=\"\n",
       "  521.741,375.869 521.741,370.408 \n",
       "  \"/>\n",
       "<polyline clip-path=\"url(#clip2800)\" style=\"stroke:#000000; stroke-width:1; stroke-opacity:1; fill:none\" points=\"\n",
       "  521.741,375.869 521.741,370.408 \n",
       "  \"/>\n",
       "<polyline clip-path=\"url(#clip2800)\" style=\"stroke:#000000; stroke-width:1; stroke-opacity:1; fill:none\" points=\"\n",
       "  32.4745,375.869 40.6921,375.869 \n",
       "  \"/>\n",
       "<polyline clip-path=\"url(#clip2800)\" style=\"stroke:#000000; stroke-width:1; stroke-opacity:1; fill:none\" points=\"\n",
       "  32.4745,303.057 40.6921,303.057 \n",
       "  \"/>\n",
       "<polyline clip-path=\"url(#clip2800)\" style=\"stroke:#000000; stroke-width:1; stroke-opacity:1; fill:none\" points=\"\n",
       "  32.4745,230.246 40.6921,230.246 \n",
       "  \"/>\n",
       "<polyline clip-path=\"url(#clip2800)\" style=\"stroke:#000000; stroke-width:1; stroke-opacity:1; fill:none\" points=\"\n",
       "  32.4745,157.434 40.6921,157.434 \n",
       "  \"/>\n",
       "<polyline clip-path=\"url(#clip2800)\" style=\"stroke:#000000; stroke-width:1; stroke-opacity:1; fill:none\" points=\"\n",
       "  32.4745,84.6226 40.6921,84.6226 \n",
       "  \"/>\n",
       "<polyline clip-path=\"url(#clip2800)\" style=\"stroke:#000000; stroke-width:1; stroke-opacity:1; fill:none\" points=\"\n",
       "  32.4745,11.811 40.6921,11.811 \n",
       "  \"/>\n",
       "<g clip-path=\"url(#clip2800)\">\n",
       "<text style=\"fill:#000000; fill-opacity:1; font-family:Arial,Helvetica Neue,Helvetica,sans-serif; font-size:12; text-anchor:middle;\" transform=\"rotate(0, 91.0486, 389.669)\" x=\"91.0486\" y=\"389.669\">en</text>\n",
       "</g>\n",
       "<g clip-path=\"url(#clip2800)\">\n",
       "<text style=\"fill:#000000; fill-opacity:1; font-family:Arial,Helvetica Neue,Helvetica,sans-serif; font-size:12; text-anchor:middle;\" transform=\"rotate(0, 91.0486, 389.669)\" x=\"91.0486\" y=\"389.669\">en</text>\n",
       "</g>\n",
       "<g clip-path=\"url(#clip2800)\">\n",
       "<text style=\"fill:#000000; fill-opacity:1; font-family:Arial,Helvetica Neue,Helvetica,sans-serif; font-size:12; text-anchor:middle;\" transform=\"rotate(0, 198.722, 389.669)\" x=\"198.722\" y=\"389.669\">it</text>\n",
       "</g>\n",
       "<g clip-path=\"url(#clip2800)\">\n",
       "<text style=\"fill:#000000; fill-opacity:1; font-family:Arial,Helvetica Neue,Helvetica,sans-serif; font-size:12; text-anchor:middle;\" transform=\"rotate(0, 198.722, 389.669)\" x=\"198.722\" y=\"389.669\">it</text>\n",
       "</g>\n",
       "<g clip-path=\"url(#clip2800)\">\n",
       "<text style=\"fill:#000000; fill-opacity:1; font-family:Arial,Helvetica Neue,Helvetica,sans-serif; font-size:12; text-anchor:middle;\" transform=\"rotate(0, 198.722, 389.669)\" x=\"198.722\" y=\"389.669\">it</text>\n",
       "</g>\n",
       "<g clip-path=\"url(#clip2800)\">\n",
       "<text style=\"fill:#000000; fill-opacity:1; font-family:Arial,Helvetica Neue,Helvetica,sans-serif; font-size:12; text-anchor:middle;\" transform=\"rotate(0, 198.722, 389.669)\" x=\"198.722\" y=\"389.669\">it</text>\n",
       "</g>\n",
       "<g clip-path=\"url(#clip2800)\">\n",
       "<text style=\"fill:#000000; fill-opacity:1; font-family:Arial,Helvetica Neue,Helvetica,sans-serif; font-size:12; text-anchor:middle;\" transform=\"rotate(0, 306.395, 389.669)\" x=\"306.395\" y=\"389.669\">fr</text>\n",
       "</g>\n",
       "<g clip-path=\"url(#clip2800)\">\n",
       "<text style=\"fill:#000000; fill-opacity:1; font-family:Arial,Helvetica Neue,Helvetica,sans-serif; font-size:12; text-anchor:middle;\" transform=\"rotate(0, 306.395, 389.669)\" x=\"306.395\" y=\"389.669\">fr</text>\n",
       "</g>\n",
       "<g clip-path=\"url(#clip2800)\">\n",
       "<text style=\"fill:#000000; fill-opacity:1; font-family:Arial,Helvetica Neue,Helvetica,sans-serif; font-size:12; text-anchor:middle;\" transform=\"rotate(0, 306.395, 389.669)\" x=\"306.395\" y=\"389.669\">fr</text>\n",
       "</g>\n",
       "<g clip-path=\"url(#clip2800)\">\n",
       "<text style=\"fill:#000000; fill-opacity:1; font-family:Arial,Helvetica Neue,Helvetica,sans-serif; font-size:12; text-anchor:middle;\" transform=\"rotate(0, 414.068, 389.669)\" x=\"414.068\" y=\"389.669\">es</text>\n",
       "</g>\n",
       "<g clip-path=\"url(#clip2800)\">\n",
       "<text style=\"fill:#000000; fill-opacity:1; font-family:Arial,Helvetica Neue,Helvetica,sans-serif; font-size:12; text-anchor:middle;\" transform=\"rotate(0, 414.068, 389.669)\" x=\"414.068\" y=\"389.669\">es</text>\n",
       "</g>\n",
       "<g clip-path=\"url(#clip2800)\">\n",
       "<text style=\"fill:#000000; fill-opacity:1; font-family:Arial,Helvetica Neue,Helvetica,sans-serif; font-size:12; text-anchor:middle;\" transform=\"rotate(0, 414.068, 389.669)\" x=\"414.068\" y=\"389.669\">es</text>\n",
       "</g>\n",
       "<g clip-path=\"url(#clip2800)\">\n",
       "<text style=\"fill:#000000; fill-opacity:1; font-family:Arial,Helvetica Neue,Helvetica,sans-serif; font-size:12; text-anchor:middle;\" transform=\"rotate(0, 414.068, 389.669)\" x=\"414.068\" y=\"389.669\">es</text>\n",
       "</g>\n",
       "<g clip-path=\"url(#clip2800)\">\n",
       "<text style=\"fill:#000000; fill-opacity:1; font-family:Arial,Helvetica Neue,Helvetica,sans-serif; font-size:12; text-anchor:middle;\" transform=\"rotate(0, 521.741, 389.669)\" x=\"521.741\" y=\"389.669\">da</text>\n",
       "</g>\n",
       "<g clip-path=\"url(#clip2800)\">\n",
       "<text style=\"fill:#000000; fill-opacity:1; font-family:Arial,Helvetica Neue,Helvetica,sans-serif; font-size:12; text-anchor:middle;\" transform=\"rotate(0, 521.741, 389.669)\" x=\"521.741\" y=\"389.669\">da</text>\n",
       "</g>\n",
       "<g clip-path=\"url(#clip2800)\">\n",
       "<text style=\"fill:#000000; fill-opacity:1; font-family:Arial,Helvetica Neue,Helvetica,sans-serif; font-size:12; text-anchor:end;\" transform=\"rotate(0, 26.4745, 380.369)\" x=\"26.4745\" y=\"380.369\">0.0</text>\n",
       "</g>\n",
       "<g clip-path=\"url(#clip2800)\">\n",
       "<text style=\"fill:#000000; fill-opacity:1; font-family:Arial,Helvetica Neue,Helvetica,sans-serif; font-size:12; text-anchor:end;\" transform=\"rotate(0, 26.4745, 307.557)\" x=\"26.4745\" y=\"307.557\">0.2</text>\n",
       "</g>\n",
       "<g clip-path=\"url(#clip2800)\">\n",
       "<text style=\"fill:#000000; fill-opacity:1; font-family:Arial,Helvetica Neue,Helvetica,sans-serif; font-size:12; text-anchor:end;\" transform=\"rotate(0, 26.4745, 234.746)\" x=\"26.4745\" y=\"234.746\">0.4</text>\n",
       "</g>\n",
       "<g clip-path=\"url(#clip2800)\">\n",
       "<text style=\"fill:#000000; fill-opacity:1; font-family:Arial,Helvetica Neue,Helvetica,sans-serif; font-size:12; text-anchor:end;\" transform=\"rotate(0, 26.4745, 161.934)\" x=\"26.4745\" y=\"161.934\">0.6</text>\n",
       "</g>\n",
       "<g clip-path=\"url(#clip2800)\">\n",
       "<text style=\"fill:#000000; fill-opacity:1; font-family:Arial,Helvetica Neue,Helvetica,sans-serif; font-size:12; text-anchor:end;\" transform=\"rotate(0, 26.4745, 89.1226)\" x=\"26.4745\" y=\"89.1226\">0.8</text>\n",
       "</g>\n",
       "<g clip-path=\"url(#clip2800)\">\n",
       "<text style=\"fill:#000000; fill-opacity:1; font-family:Arial,Helvetica Neue,Helvetica,sans-serif; font-size:12; text-anchor:end;\" transform=\"rotate(0, 26.4745, 16.311)\" x=\"26.4745\" y=\"16.311\">1.0</text>\n",
       "</g>\n",
       "<polygon clip-path=\"url(#clip2802)\" points=\"\n",
       "47.9794,323.699 47.9794,375.869 134.118,375.869 134.118,323.699 47.9794,323.699 47.9794,323.699 \n",
       "  \" fill=\"#009af9\" fill-opacity=\"1\"/>\n",
       "<polyline clip-path=\"url(#clip2802)\" style=\"stroke:#000000; stroke-width:1; stroke-opacity:1; fill:none\" points=\"\n",
       "  47.9794,323.699 47.9794,375.869 134.118,375.869 134.118,323.699 47.9794,323.699 \n",
       "  \"/>\n",
       "<polygon clip-path=\"url(#clip2802)\" points=\"\n",
       "155.652,315.753 155.652,375.869 241.791,375.869 241.791,315.753 155.652,315.753 155.652,315.753 \n",
       "  \" fill=\"#009af9\" fill-opacity=\"1\"/>\n",
       "<polyline clip-path=\"url(#clip2802)\" style=\"stroke:#000000; stroke-width:1; stroke-opacity:1; fill:none\" points=\"\n",
       "  155.652,315.753 155.652,375.869 241.791,375.869 241.791,315.753 155.652,315.753 \n",
       "  \"/>\n",
       "<polygon clip-path=\"url(#clip2802)\" points=\"\n",
       "263.326,346.38 263.326,375.869 349.464,375.869 349.464,346.38 263.326,346.38 263.326,346.38 \n",
       "  \" fill=\"#009af9\" fill-opacity=\"1\"/>\n",
       "<polyline clip-path=\"url(#clip2802)\" style=\"stroke:#000000; stroke-width:1; stroke-opacity:1; fill:none\" points=\"\n",
       "  263.326,346.38 263.326,375.869 349.464,375.869 349.464,346.38 263.326,346.38 \n",
       "  \"/>\n",
       "<polygon clip-path=\"url(#clip2802)\" points=\"\n",
       "370.999,185.039 370.999,375.869 457.137,375.869 457.137,185.039 370.999,185.039 370.999,185.039 \n",
       "  \" fill=\"#009af9\" fill-opacity=\"1\"/>\n",
       "<polyline clip-path=\"url(#clip2802)\" style=\"stroke:#000000; stroke-width:1; stroke-opacity:1; fill:none\" points=\"\n",
       "  370.999,185.039 370.999,375.869 457.137,375.869 457.137,185.039 370.999,185.039 \n",
       "  \"/>\n",
       "<polygon clip-path=\"url(#clip2802)\" points=\"\n",
       "478.672,344.414 478.672,375.869 564.81,375.869 564.81,344.414 478.672,344.414 478.672,344.414 \n",
       "  \" fill=\"#009af9\" fill-opacity=\"1\"/>\n",
       "<polyline clip-path=\"url(#clip2802)\" style=\"stroke:#000000; stroke-width:1; stroke-opacity:1; fill:none\" points=\"\n",
       "  478.672,344.414 478.672,375.869 564.81,375.869 564.81,344.414 478.672,344.414 \n",
       "  \"/>\n",
       "<polygon clip-path=\"url(#clip2800)\" points=\"\n",
       "446.143,62.931 562.315,62.931 562.315,32.691 446.143,32.691 \n",
       "  \" fill=\"#ffffff\" fill-opacity=\"1\"/>\n",
       "<polyline clip-path=\"url(#clip2800)\" style=\"stroke:#000000; stroke-width:1; stroke-opacity:1; fill:none\" points=\"\n",
       "  446.143,62.931 562.315,62.931 562.315,32.691 446.143,32.691 446.143,62.931 \n",
       "  \"/>\n",
       "<polygon clip-path=\"url(#clip2800)\" points=\"\n",
       "452.143,53.859 488.143,53.859 488.143,41.763 452.143,41.763 452.143,53.859 \n",
       "  \" fill=\"#009af9\" fill-opacity=\"1\"/>\n",
       "<polyline clip-path=\"url(#clip2800)\" style=\"stroke:#000000; stroke-width:1; stroke-opacity:1; fill:none\" points=\"\n",
       "  452.143,53.859 488.143,53.859 488.143,41.763 452.143,41.763 452.143,53.859 \n",
       "  \"/>\n",
       "<g clip-path=\"url(#clip2800)\">\n",
       "<text style=\"fill:#000000; fill-opacity:1; font-family:Arial,Helvetica Neue,Helvetica,sans-serif; font-size:12; text-anchor:start;\" transform=\"rotate(0, 494.143, 52.311)\" x=\"494.143\" y=\"52.311\">Probability</text>\n",
       "</g>\n",
       "</svg>\n"
      ]
     },
     "execution_count": 17,
     "metadata": {
      "comm_id": "49db7d2a-43ac-4a0a-8405-395be94996c5",
      "reactive": true
     },
     "output_type": "execute_result"
    }
   ],
   "source": [
    "@manipulate for s = \"c'é una bella filosofia\"\n",
    "    bar(String.(langs), predict(s),\n",
    "        label=[\"Probability\"], ylims=(0,1))\n",
    "end"
   ]
  },
  {
   "cell_type": "code",
   "execution_count": null,
   "metadata": {
    "collapsed": true
   },
   "outputs": [],
   "source": []
  }
 ],
 "metadata": {
  "kernelspec": {
   "display_name": "Julia 0.6.2-pre",
   "language": "julia",
   "name": "julia-0.6"
  },
  "language_info": {
   "file_extension": ".jl",
   "mimetype": "application/julia",
   "name": "julia",
   "version": "0.6.2"
  }
 },
 "nbformat": 4,
 "nbformat_minor": 2
}
